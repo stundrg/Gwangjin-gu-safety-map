{
 "cells": [
  {
   "cell_type": "code",
   "execution_count": 17,
   "id": "a21a844a-bb06-44f8-a555-de3e52963be9",
   "metadata": {},
   "outputs": [
    {
     "ename": "ValueError",
     "evalue": "Location values cannot contain NaNs.",
     "output_type": "error",
     "traceback": [
      "\u001b[0;31m---------------------------------------------------------------------------\u001b[0m",
      "\u001b[0;31mValueError\u001b[0m                                Traceback (most recent call last)",
      "Cell \u001b[0;32mIn[17], line 32\u001b[0m\n\u001b[1;32m     29\u001b[0m map_center \u001b[38;5;241m=\u001b[39m [map_df[\u001b[38;5;124m\"\u001b[39m\u001b[38;5;124m위도\u001b[39m\u001b[38;5;124m\"\u001b[39m]\u001b[38;5;241m.\u001b[39mmean(), map_df[\u001b[38;5;124m\"\u001b[39m\u001b[38;5;124m경도\u001b[39m\u001b[38;5;124m\"\u001b[39m]\u001b[38;5;241m.\u001b[39mmean()]\n\u001b[1;32m     31\u001b[0m \u001b[38;5;66;03m# 8. Folium 지도 생성\u001b[39;00m\n\u001b[0;32m---> 32\u001b[0m light_map \u001b[38;5;241m=\u001b[39m \u001b[43mfolium\u001b[49m\u001b[38;5;241;43m.\u001b[39;49m\u001b[43mMap\u001b[49m\u001b[43m(\u001b[49m\u001b[43mlocation\u001b[49m\u001b[38;5;241;43m=\u001b[39;49m\u001b[43mmap_center\u001b[49m\u001b[43m,\u001b[49m\u001b[43m \u001b[49m\u001b[43mzoom_start\u001b[49m\u001b[38;5;241;43m=\u001b[39;49m\u001b[38;5;241;43m14\u001b[39;49m\u001b[43m)\u001b[49m\n\u001b[1;32m     34\u001b[0m \u001b[38;5;66;03m# 9. 마커 추가\u001b[39;00m\n\u001b[1;32m     35\u001b[0m \u001b[38;5;28;01mfor\u001b[39;00m _, row \u001b[38;5;129;01min\u001b[39;00m map_df\u001b[38;5;241m.\u001b[39miterrows():\n",
      "File \u001b[0;32m~/code/gongmo/.venv/lib/python3.12/site-packages/folium/folium.py:277\u001b[0m, in \u001b[0;36mMap.__init__\u001b[0;34m(self, location, width, height, left, top, position, tiles, attr, min_zoom, max_zoom, zoom_start, min_lat, max_lat, min_lon, max_lon, max_bounds, crs, control_scale, prefer_canvas, no_touch, disable_3d, png_enabled, zoom_control, font_size, **kwargs)\u001b[0m\n\u001b[1;32m    275\u001b[0m     zoom_start \u001b[38;5;241m=\u001b[39m \u001b[38;5;241m1\u001b[39m\n\u001b[1;32m    276\u001b[0m \u001b[38;5;28;01melse\u001b[39;00m:\n\u001b[0;32m--> 277\u001b[0m     \u001b[38;5;28mself\u001b[39m\u001b[38;5;241m.\u001b[39mlocation \u001b[38;5;241m=\u001b[39m \u001b[43mvalidate_location\u001b[49m\u001b[43m(\u001b[49m\u001b[43mlocation\u001b[49m\u001b[43m)\u001b[49m\n\u001b[1;32m    279\u001b[0m Figure()\u001b[38;5;241m.\u001b[39madd_child(\u001b[38;5;28mself\u001b[39m)\n\u001b[1;32m    281\u001b[0m \u001b[38;5;66;03m# Map Size Parameters.\u001b[39;00m\n",
      "File \u001b[0;32m~/code/gongmo/.venv/lib/python3.12/site-packages/folium/utilities.py:108\u001b[0m, in \u001b[0;36mvalidate_location\u001b[0;34m(location)\u001b[0m\n\u001b[1;32m    103\u001b[0m         \u001b[38;5;28;01mraise\u001b[39;00m \u001b[38;5;167;01mValueError\u001b[39;00m(\n\u001b[1;32m    104\u001b[0m             \u001b[38;5;124m\"\u001b[39m\u001b[38;5;124mLocation should consist of two numerical values, \u001b[39m\u001b[38;5;124m\"\u001b[39m\n\u001b[1;32m    105\u001b[0m             \u001b[38;5;124mf\u001b[39m\u001b[38;5;124m\"\u001b[39m\u001b[38;5;124mbut \u001b[39m\u001b[38;5;132;01m{\u001b[39;00mcoord\u001b[38;5;132;01m!r}\u001b[39;00m\u001b[38;5;124m of type \u001b[39m\u001b[38;5;132;01m{\u001b[39;00m\u001b[38;5;28mtype\u001b[39m(coord)\u001b[38;5;132;01m}\u001b[39;00m\u001b[38;5;124m is not convertible to float.\u001b[39m\u001b[38;5;124m\"\u001b[39m\n\u001b[1;32m    106\u001b[0m         )\n\u001b[1;32m    107\u001b[0m     \u001b[38;5;28;01mif\u001b[39;00m math\u001b[38;5;241m.\u001b[39misnan(\u001b[38;5;28mfloat\u001b[39m(coord)):\n\u001b[0;32m--> 108\u001b[0m         \u001b[38;5;28;01mraise\u001b[39;00m \u001b[38;5;167;01mValueError\u001b[39;00m(\u001b[38;5;124m\"\u001b[39m\u001b[38;5;124mLocation values cannot contain NaNs.\u001b[39m\u001b[38;5;124m\"\u001b[39m)\n\u001b[1;32m    109\u001b[0m \u001b[38;5;28;01mreturn\u001b[39;00m [\u001b[38;5;28mfloat\u001b[39m(x) \u001b[38;5;28;01mfor\u001b[39;00m x \u001b[38;5;129;01min\u001b[39;00m coords]\n",
      "\u001b[0;31mValueError\u001b[0m: Location values cannot contain NaNs."
     ]
    }
   ],
   "source": [
    "import pandas as pd\n",
    "from geopy.geocoders import Nominatim\n",
    "from geopy.extra.rate_limiter import RateLimiter\n",
    "import folium\n",
    "from IPython.display import display\n",
    "\n",
    "# 1. 데이터 불러오기\n",
    "df = pd.read_csv(\"/home/gmlwls5168/code/gongmo/src/data/gwangjin_stat.csv\")\n",
    "\n",
    "# 2. 검색 주소 만들기 (도로명만 있을 경우 실패율 높음 → 구체화)\n",
    "df[\"검색주소\"] = \"서울특별시 광진구 \" + df[\"구간\"].astype(str)\n",
    "\n",
    "# 3. 지오코딩 준비\n",
    "geolocator = Nominatim(user_agent=\"gwangjin_light_mapper\")\n",
    "geocode = RateLimiter(geolocator.geocode, min_delay_seconds=1)\n",
    "\n",
    "# 4. 주소 → 위치 변환 (None 방지 위해 .notnull() 필터링 예정)\n",
    "df[\"location\"] = df[\"검색주소\"].apply(geocode)\n",
    "\n",
    "# 5. 지오코딩 실패 제거\n",
    "df = df[df[\"location\"].notnull()].copy()\n",
    "\n",
    "# 6. 위도/경도 추출\n",
    "df[\"위도\"] = df[\"location\"].apply(lambda loc: loc.latitude)\n",
    "df[\"경도\"] = df[\"location\"].apply(lambda loc: loc.longitude)\n",
    "\n",
    "# 7. 지도용 데이터 구성\n",
    "map_df = df.dropna(subset=[\"위도\", \"경도\"]).copy()\n",
    "map_center = [map_df[\"위도\"].mean(), map_df[\"경도\"].mean()]\n",
    "\n",
    "# 8. Folium 지도 생성\n",
    "light_map = folium.Map(location=map_center, zoom_start=14)\n",
    "\n",
    "# 9. 마커 추가\n",
    "for _, row in map_df.iterrows():\n",
    "    popup_text = f\"\"\"\n",
    "    <b>구간:</b> {row['구간']}<br>\n",
    "    <b>평균 조도:</b> {row['평균조도(LX)']} lx<br>\n",
    "    <b>보행등:</b> {row['보행등 개수']}개<br>\n",
    "    <b>차도등:</b> {row['차도등 개수']}개\n",
    "    \"\"\"\n",
    "    folium.CircleMarker(\n",
    "        location=[row[\"위도\"], row[\"경도\"]],\n",
    "        radius=6,\n",
    "        color=\"blue\",\n",
    "        fill=True,\n",
    "        fill_opacity=0.6,\n",
    "        popup=popup_text\n",
    "    ).add_to(light_map)\n",
    "\n",
    "# 10. Jupyter에서 바로 지도 표시\n",
    "display(light_map)\n",
    "\n",
    "# 💾 HTML로 저장하고 싶으면 아래 코드도 추가 가능\n",
    "# light_map.save(\"/Users/heejin/code/gongmo/src/results/gwangjin_light_map.html\")\n"
   ]
  },
  {
   "cell_type": "code",
   "execution_count": null,
   "id": "fbd7d1c0-deff-479a-b67c-1f09c2193bf1",
   "metadata": {},
   "outputs": [],
   "source": []
  }
 ],
 "metadata": {
  "kernelspec": {
   "display_name": "Python 3 (ipykernel)",
   "language": "python",
   "name": "python3"
  },
  "language_info": {
   "codemirror_mode": {
    "name": "ipython",
    "version": 3
   },
   "file_extension": ".py",
   "mimetype": "text/x-python",
   "name": "python",
   "nbconvert_exporter": "python",
   "pygments_lexer": "ipython3",
   "version": "3.12.3"
  }
 },
 "nbformat": 4,
 "nbformat_minor": 5
}
