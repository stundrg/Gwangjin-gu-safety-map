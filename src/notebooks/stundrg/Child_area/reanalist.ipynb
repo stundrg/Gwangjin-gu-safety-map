{
 "cells": [
  {
   "cell_type": "code",
   "execution_count": 1,
   "id": "49e5d605-77af-4815-b75e-f0a5ca95719a",
   "metadata": {},
   "outputs": [
    {
     "name": "stdout",
     "output_type": "stream",
     "text": [
      "Index(['구분', '자치구', '소재지', '도로명주소', '지정개수', '시설명', '시설유형', '지정연도', '위도', '경도',\n",
      "       '100m이내_CCTV개수'],\n",
      "      dtype='object')\n",
      "   구분    자치구  소재지 도로명주소         지정개수       시설명  시설유형    지정연도         위도  \\\n",
      "0 NaN  174.0  광진구    능동  천호대로130길 58    경복초등학교  초등학교  1998.0  37.553779   \n",
      "1 NaN  175.0  광진구   광장동   아차산로70길 35  서울광남초등학교  초등학교  1998.0  37.546857   \n",
      "2 NaN  176.0  광진구   광장동     광장로1길 27  서울광장초등학교  초등학교  1995.0  37.546857   \n",
      "3 NaN  177.0  광진구  구의2동    자양로40길 41  서울광진초등학교  초등학교  2003.0  37.547228   \n",
      "4 NaN  178.0  광진구  구의3동     구의강변로 69  서울구남초등학교  초등학교  1995.0  37.537982   \n",
      "\n",
      "           경도  100m이내_CCTV개수  \n",
      "0  127.080537              4  \n",
      "1  127.103026              3  \n",
      "2  127.103026              3  \n",
      "3  127.089940              6  \n",
      "4  127.091961              5  \n"
     ]
    }
   ],
   "source": [
    "import pandas as pd\n",
    "\n",
    "# 파일 불러오기\n",
    "df = pd.read_csv('../../../data/gwangjin_child_zone_with_cctv_counts.csv', encoding='cp949')\n",
    "\n",
    "# 컬럼명 확인\n",
    "print(df.columns)\n",
    "\n",
    "# 첫 5행 확인\n",
    "print(df.head())"
   ]
  },
  {
   "cell_type": "code",
   "execution_count": null,
   "id": "75d2298e-1be5-4827-842a-e6f74e946f80",
   "metadata": {},
   "outputs": [],
   "source": []
  }
 ],
 "metadata": {
  "kernelspec": {
   "display_name": "Python 3 (ipykernel)",
   "language": "python",
   "name": "python3"
  },
  "language_info": {
   "codemirror_mode": {
    "name": "ipython",
    "version": 3
   },
   "file_extension": ".py",
   "mimetype": "text/x-python",
   "name": "python",
   "nbconvert_exporter": "python",
   "pygments_lexer": "ipython3",
   "version": "3.10.12"
  }
 },
 "nbformat": 4,
 "nbformat_minor": 5
}
