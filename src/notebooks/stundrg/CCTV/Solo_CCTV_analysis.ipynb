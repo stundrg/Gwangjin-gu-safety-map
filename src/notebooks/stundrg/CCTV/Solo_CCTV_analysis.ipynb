{
 "cells": [
  {
   "cell_type": "code",
   "execution_count": 1,
   "id": "8a07ddec-50e1-4c43-8f97-d4e2fe0a8e21",
   "metadata": {},
   "outputs": [
    {
     "name": "stdout",
     "output_type": "stream",
     "text": [
      "✅ 단독 설치 CCTV 개수: 53개\n"
     ]
    }
   ],
   "source": [
    "import pandas as pd\n",
    "import matplotlib.pyplot as plt\n",
    "import seaborn as sns\n",
    "import folium\n",
    "import os\n",
    "\n",
    "# proceeded_solo 파일 불러오기\n",
    "df = pd.read_csv(\"../../results/solo_cctv_with_nearby_counts.csv\", encoding=\"utf-8-sig\")\n",
    "\n",
    "print(f\"✅ 단독 설치 CCTV 개수: {len(df)}개\")\n"
   ]
  },
  {
   "cell_type": "code",
   "execution_count": 4,
   "id": "165060f0-6744-42cc-8262-91aac743b760",
   "metadata": {},
   "outputs": [
    {
     "name": "stdout",
     "output_type": "stream",
     "text": [
      "✅ 주변에 친구 없는 진짜 외톨이 CCTV 수: 53개\n",
      "✅ 친구 없는 CCTV 지도 저장 완료: solo_cctv_no_nearby_map.html\n"
     ]
    }
   ],
   "source": [
    "# 주변 친구가 0명인 CCTV만 추출\n",
    "df_no_nearby = df[df['주변 CCTV 수'] == 0]\n",
    "\n",
    "print(f\"✅ 주변에 친구 없는 진짜 외톨이 CCTV 수: {len(df_no_nearby)}개\")\n",
    "\n",
    "# 지도 생성\n",
    "m = folium.Map(location=[df_no_nearby['위도'].mean(), df_no_nearby['경도'].mean()], zoom_start=13)\n",
    "\n",
    "for _, row in df_no_nearby.iterrows():\n",
    "    folium.CircleMarker(\n",
    "        location=[row['위도'], row['경도']],\n",
    "        radius=4,\n",
    "        popup=f\"{row['주소']} (주변 CCTV: {row['주변 CCTV 수']})\",\n",
    "        color=\"red\",\n",
    "        fill=True,\n",
    "        fill_opacity=0.7\n",
    "    ).add_to(m)\n",
    "\n",
    "# 저장\n",
    "m.save(\"../../results/solo_cctv_no_nearby_map.html\")\n",
    "print(\"✅ 친구 없는 CCTV 지도 저장 완료: solo_cctv_no_nearby_map.html\")\n"
   ]
  },
  {
   "cell_type": "code",
   "execution_count": null,
   "id": "f8cabdd6-6eda-4bbf-95a8-e50f72519398",
   "metadata": {},
   "outputs": [],
   "source": []
  }
 ],
 "metadata": {
  "kernelspec": {
   "display_name": "Python 3 (ipykernel)",
   "language": "python",
   "name": "python3"
  },
  "language_info": {
   "codemirror_mode": {
    "name": "ipython",
    "version": 3
   },
   "file_extension": ".py",
   "mimetype": "text/x-python",
   "name": "python",
   "nbconvert_exporter": "python",
   "pygments_lexer": "ipython3",
   "version": "3.10.12"
  }
 },
 "nbformat": 4,
 "nbformat_minor": 5
}
