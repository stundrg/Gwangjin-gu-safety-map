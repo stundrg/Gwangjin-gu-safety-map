{
 "cells": [
  {
   "cell_type": "code",
   "execution_count": 4,
   "id": "167abfae-f63e-4ffa-b30c-5c5d092cadc6",
   "metadata": {},
   "outputs": [
    {
     "name": "stdout",
     "output_type": "stream",
     "text": [
      "✅ 저장 완료: proceeded_cctv.csv\n"
     ]
    }
   ],
   "source": [
    "# 📘 1. 라이브러리 불러오기\n",
    "import pandas as pd\n",
    "import os\n",
    "\n",
    "# 📁 2. 엑셀 파일 로드\n",
    "df = pd.read_csv(\"../../data/12_04_08_E_CCTV정보.csv\", encoding=\"cp949\")\n",
    "\n",
    "# 🧼 3. 컬럼명 통일 (분석 흐름 유지)\n",
    "df.rename(columns={\n",
    "    '소재지도로명주소': '주소',\n",
    "    'WGS84위도': '위도',\n",
    "    'WGS84경도': '경도',\n",
    "    '카메라대수': 'CCTV 수량',\n",
    "    '설치목적구분': '설치목적'\n",
    "}, inplace=True)\n",
    "\n",
    "# ✅ 4. 수치형 변환 & 결측치 제거\n",
    "df['CCTV 수량'] = pd.to_numeric(df['CCTV 수량'], errors='coerce').fillna(0).astype(int)\n",
    "df = df.dropna(subset=['위도', '경도'])\n",
    "\n",
    "# 📦 5. 필요한 열만 저장 (원하면 전체도 가능)\n",
    "columns_to_save = ['주소', '위도', '경도', 'CCTV 수량', '설치목적']\n",
    "df_final = df[columns_to_save]\n",
    "\n",
    "# 💾 6. CSV로 저장\n",
    "output_path = \"../../results/proceeded_cctv.csv\"\n",
    "os.makedirs(\"../../results\", exist_ok=True)\n",
    "df_final.to_csv(output_path, index=False, encoding=\"utf-8-sig\")\n",
    "\n",
    "print(\"✅ 저장 완료: proceeded_cctv.csv\")"
   ]
  },
  {
   "cell_type": "code",
   "execution_count": null,
   "id": "30541750-4e0c-41d2-a9cd-2d71ea1b3541",
   "metadata": {},
   "outputs": [],
   "source": []
  },
  {
   "cell_type": "code",
   "execution_count": null,
   "id": "370809a3-8a1b-4f22-8f82-09fc3ce5d94b",
   "metadata": {},
   "outputs": [],
   "source": []
  }
 ],
 "metadata": {
  "kernelspec": {
   "display_name": "Python 3 (ipykernel)",
   "language": "python",
   "name": "python3"
  },
  "language_info": {
   "codemirror_mode": {
    "name": "ipython",
    "version": 3
   },
   "file_extension": ".py",
   "mimetype": "text/x-python",
   "name": "python",
   "nbconvert_exporter": "python",
   "pygments_lexer": "ipython3",
   "version": "3.10.12"
  }
 },
 "nbformat": 4,
 "nbformat_minor": 5
}
