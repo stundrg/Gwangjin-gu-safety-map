{
 "cells": [
  {
   "cell_type": "code",
<<<<<<< HEAD
   "execution_count": 15,
=======
   "execution_count": 5,
>>>>>>> 21354b761d1ca62e8bfff42a19226cd8f2c13aae
   "id": "5773153f-0472-4e23-a957-8181f28e726e",
   "metadata": {},
   "outputs": [
    {
<<<<<<< HEAD
     "ename": "ModuleNotFoundError",
     "evalue": "No module named 'dotenv'",
     "output_type": "error",
     "traceback": [
      "\u001b[0;31m---------------------------------------------------------------------------\u001b[0m",
      "\u001b[0;31mModuleNotFoundError\u001b[0m                       Traceback (most recent call last)",
      "Cell \u001b[0;32mIn[15], line 5\u001b[0m\n\u001b[1;32m      3\u001b[0m \u001b[38;5;28;01mimport\u001b[39;00m\u001b[38;5;250m \u001b[39m\u001b[38;5;21;01mtime\u001b[39;00m\n\u001b[1;32m      4\u001b[0m \u001b[38;5;28;01mimport\u001b[39;00m\u001b[38;5;250m \u001b[39m\u001b[38;5;21;01mos\u001b[39;00m\n\u001b[0;32m----> 5\u001b[0m \u001b[38;5;28;01mfrom\u001b[39;00m\u001b[38;5;250m \u001b[39m\u001b[38;5;21;01mdotenv\u001b[39;00m\u001b[38;5;250m \u001b[39m\u001b[38;5;28;01mimport\u001b[39;00m load_dotenv\n\u001b[1;32m      7\u001b[0m \u001b[38;5;66;03m# 📂 .env 파일에서 API 키 읽어오기\u001b[39;00m\n\u001b[1;32m      8\u001b[0m load_dotenv()\n",
      "\u001b[0;31mModuleNotFoundError\u001b[0m: No module named 'dotenv'"
=======
     "name": "stdout",
     "output_type": "stream",
     "text": [
      "✅ 변환 완료! 위경도 추가된 파일 저장: ../../../data/gwangjin_child_zone_with_coords.csv\n"
>>>>>>> 21354b761d1ca62e8bfff42a19226cd8f2c13aae
     ]
    }
   ],
   "source": [
    "import pandas as pd\n",
    "import requests\n",
    "import time\n",
    "import os\n",
    "from dotenv import load_dotenv\n",
    "\n",
<<<<<<< HEAD
    "# 📂 .env 파일에서 API 키 읽어오기\n",
    "load_dotenv()\n",
    "REST_API_KEY = os.getenv('KAKAO_API_KEY')\n",
    "\n",
    "# ✅ 광진구 어린이 보호구역 파일 경로\n",
    "child_zone_path = '../../../data/gwangjin_child_zone_cp949.csv'\n",
    "child_df = pd.read_csv(child_zone_path, encoding='cp949')\n",
    "\n",
    "# 📍 결과 저장할 리스트\n",
    "latitudes = []\n",
    "longitudes = []\n",
    "\n",
    "# 📍 카카오 주소→좌표 변환 함수\n",
=======
    "# 📂 .env 파일 불러오기\n",
    "load_dotenv()\n",
    "REST_API_KEY = os.getenv('KAKAO_API_KEY')\n",
    "\n",
    "# 📂 광진구 어린이 보호구역 파일 읽기 (cp949 인코딩 주의)\n",
    "# ✅ 새 경로로 수정\n",
    "child_zone_path = '../../../data/gwangjin_child_zone_clean_final_utf8.csv'\n",
    "child_df = pd.read_csv(child_zone_path, encoding='utf-8-sig')\n",
    "\n",
    "# 📍 위도/경도 저장할 리스트 준비\n",
    "latitudes = []\n",
    "longitudes = []\n",
    "\n",
    "# 📍 카카오 주소 → 좌표 변환 함수\n",
>>>>>>> 21354b761d1ca62e8bfff42a19226cd8f2c13aae
    "def get_lat_lon(address, api_key):\n",
    "    url = 'https://dapi.kakao.com/v2/local/search/address.json'\n",
    "    headers = {\"Authorization\": f\"KakaoAK {api_key}\"}\n",
    "    params = {\"query\": address}\n",
    "    response = requests.get(url, headers=headers, params=params)\n",
    "    if response.status_code == 200:\n",
    "        result = response.json()[\"documents\"]\n",
    "        if result:\n",
<<<<<<< HEAD
    "            return float(result[0][\"y\"]), float(result[0][\"x\"])  # 위도, 경도\n",
=======
    "            return float(result[0][\"y\"]), float(result[0][\"x\"])  # 위도(y), 경도(x)\n",
>>>>>>> 21354b761d1ca62e8bfff42a19226cd8f2c13aae
    "        else:\n",
    "            return None, None\n",
    "    else:\n",
    "        return None, None\n",
    "\n",
<<<<<<< HEAD
    "# 📍 어린이 보호구역 주소 하나씩 위경도 변환\n",
    "for address in child_df['도로명주소']:  # 도로명주소 컬럼명 맞춰야 함\n",
    "    lat, lon = get_lat_lon(address, REST_API_KEY)\n",
    "    latitudes.append(lat)\n",
    "    longitudes.append(lon)\n",
    "    time.sleep(0.1)  # 요청 속도 너무 빠르면 막힐 수 있어서 살짝 쉬기\n",
=======
    "# 📍 도로명주소 하나씩 변환\n",
    "for address in child_df['도로명주소']:\n",
    "    lat, lon = get_lat_lon(address, REST_API_KEY)\n",
    "    latitudes.append(lat)\n",
    "    longitudes.append(lon)\n",
    "    time.sleep(0.1)  # 카카오 API 과부하 방지 (0.1초 쉬기)\n",
>>>>>>> 21354b761d1ca62e8bfff42a19226cd8f2c13aae
    "\n",
    "# 📍 결과 추가\n",
    "child_df['위도'] = latitudes\n",
    "child_df['경도'] = longitudes\n",
    "\n",
<<<<<<< HEAD
    "# 📂 위경도 추가된 파일로 저장 (CP949로 다시 저장)\n",
    "child_df.to_csv('../../../data/gwangjin_child_zone_with_coords.csv', index=False, encoding='cp949')\n",
    "\n",
    "print(\"✅ 변환 완료! 'gwangjin_child_zone_with_coords.csv' 저장 완료\")\n"
=======
    "# 📂 변환된 파일로 저장 (cp949로 저장, 엑셀 호환)\n",
    "output_path = '../../../data/gwangjin_child_zone_with_coords.csv'\n",
    "child_df.to_csv(output_path, index=False, encoding='cp949')\n",
    "\n",
    "print(f\"✅ 변환 완료! 위경도 추가된 파일 저장: {output_path}\")\n"
>>>>>>> 21354b761d1ca62e8bfff42a19226cd8f2c13aae
   ]
  },
  {
   "cell_type": "code",
<<<<<<< HEAD
   "execution_count": 11,
=======
   "execution_count": 6,
   "id": "91446954-a3d8-4545-9d3d-77b5d547f94c",
   "metadata": {},
   "outputs": [
    {
     "name": "stdout",
     "output_type": "stream",
     "text": [
      "✅ 광진구만 필터링한 파일 저장 완료: ../../../data/gwangjin_child_zone_with_coords_filtered.csv\n"
     ]
    }
   ],
   "source": [
    "import pandas as pd\n",
    "\n",
    "# 📂 이미 좌표가 추가된 파일 읽기\n",
    "child_zone_path = '../../../data/gwangjin_child_zone_with_coords.csv'\n",
    "child_df = pd.read_csv(child_zone_path, encoding='cp949')\n",
    "\n",
    "# 📍 광진구만 필터링\n",
    "child_df = child_df[child_df['자치구'] == '광진구']\n",
    "\n",
    "# 📍 필요하면 추가 전처리\n",
    "# (예: 위도/경도 NaN 처리, 이상치 제거 등)\n",
    "\n",
    "# 📂 최종 저장\n",
    "output_path = '../../../data/gwangjin_child_zone_with_coords_filtered.csv'\n",
    "child_df.to_csv(output_path, index=False, encoding='utf-8-sig')\n",
    "\n",
    "print(f\"✅ 광진구만 필터링한 파일 저장 완료: {output_path}\")\n"
   ]
  },
  {
   "cell_type": "code",
   "execution_count": 8,
>>>>>>> 21354b761d1ca62e8bfff42a19226cd8f2c13aae
   "id": "0ab9c586-1d1e-47c6-87cc-fa19824db0cb",
   "metadata": {},
   "outputs": [
    {
     "name": "stdout",
     "output_type": "stream",
     "text": [
<<<<<<< HEAD
      "✅ 변환 완료: 'gwangjin_child_zone_cp949.csv' (cp949 인코딩)\n"
=======
      "✅ 분석 완료! CCTV 없는 어린이 보호구역 2개 발견\n",
      "✅ 결과 파일 저장: '../../../results/no_cctv_childzone.csv'\n"
>>>>>>> 21354b761d1ca62e8bfff42a19226cd8f2c13aae
     ]
    }
   ],
   "source": [
    "import pandas as pd\n",
<<<<<<< HEAD
    "\n",
    "# 📂 UTF-8로 읽기\n",
    "child_df = pd.read_csv('../../../data/gwangjin_child_zone.csv', encoding='utf-8')\n",
    "\n",
    "# (여기서 필요한 작업을 한다면 추가)\n",
    "\n",
    "# 📂 CP949로 저장하기\n",
    "child_df.to_csv('../../../data/gwangjin_child_zone_cp949.csv', index=False, encoding='cp949')\n",
    "\n",
    "print(\"✅ 변환 완료: 'gwangjin_child_zone_cp949.csv' (cp949 인코딩)\")\n"
=======
    "import numpy as np\n",
    "\n",
    "# 📂 파일 경로 설정\n",
    "child_zone_path = '../../../data/gwangjin_child_zone_with_coords_filtered.csv'\n",
    "cctv_path = '../../../results/CCTV/proceeded_cctv_with_cluster.csv'\n",
    "\n",
    "# 📂 파일 불러오기\n",
    "child_df = pd.read_csv(child_zone_path, encoding='utf-8-sig')\n",
    "cctv_df = pd.read_csv(cctv_path, encoding='utf-8')\n",
    "\n",
    "# 📍 Haversine 거리 계산 함수\n",
    "def haversine(lat1, lon1, lat2, lon2):\n",
    "    R = 6371000  # 지구 반지름 (미터 단위)\n",
    "    phi1 = np.radians(lat1)\n",
    "    phi2 = np.radians(lat2)\n",
    "    delta_phi = np.radians(lat2 - lat1)\n",
    "    delta_lambda = np.radians(lon2 - lon1)\n",
    "    a = np.sin(delta_phi/2)**2 + np.cos(phi1) * np.cos(phi2) * np.sin(delta_lambda/2)**2\n",
    "    c = 2 * np.arctan2(np.sqrt(a), np.sqrt(1-a))\n",
    "    return R * c\n",
    "\n",
    "# 📍 어린이 보호구역 데이터에 CCTV 여부 추가할 컬럼 준비\n",
    "child_df['근처_CCTV_여부'] = 'X'  # 기본은 '없음'\n",
    "\n",
    "# 📍 하나씩 비교\n",
    "for idx, child_row in child_df.iterrows():\n",
    "    if np.isnan(child_row['위도']) or np.isnan(child_row['경도']):\n",
    "        continue  # 위도/경도 없으면 건너뜀\n",
    "    \n",
    "    lat1 = child_row['위도']\n",
    "    lon1 = child_row['경도']\n",
    "    \n",
    "    # CCTV들과 거리 계산\n",
    "    distances = haversine(lat1, lon1, cctv_df['위도'], cctv_df['경도'])\n",
    "    \n",
    "    # 100m 이내에 하나라도 있으면 'O'로 표시\n",
    "    if (distances <= 100).any():\n",
    "        child_df.at[idx, '근처_CCTV_여부'] = 'O'\n",
    "\n",
    "# 📂 CCTV 없는 어린이 보호구역만 추출\n",
    "no_cctv_childzone_df = child_df[child_df['근처_CCTV_여부'] == 'X']\n",
    "\n",
    "# 📂 결과 저장\n",
    "no_cctv_childzone_df.to_csv('../../../results/no_cctv_childzone.csv', index=False, encoding='utf-8-sig')\n",
    "\n",
    "print(f\"✅ 분석 완료! CCTV 없는 어린이 보호구역 {len(no_cctv_childzone_df)}개 발견\")\n",
    "print(\"✅ 결과 파일 저장: '../../../results/no_cctv_childzone.csv'\")\n"
   ]
  },
  {
   "cell_type": "code",
   "execution_count": 9,
   "id": "8ce5ba4b-ba14-4c6a-9ca1-9f8aff987943",
   "metadata": {},
   "outputs": [],
   "source": [
    "def haversine(lat1, lon1, lat2, lon2):\n",
    "    R = 6371000\n",
    "    phi1 = np.radians(lat1)\n",
    "    phi2 = np.radians(lat2)\n",
    "    delta_phi = np.radians(lat2 - lat1)\n",
    "    delta_lambda = np.radians(lon2 - lon1)\n",
    "    a = np.sin(delta_phi/2)**2 + np.cos(phi1) * np.cos(phi2) * np.sin(delta_lambda/2)**2\n",
    "    c = 2 * np.arctan2(np.sqrt(a), np.sqrt(1-a))\n",
    "    return R * c\n"
   ]
  },
  {
   "cell_type": "code",
   "execution_count": 10,
   "id": "7aeb8d0e-872d-478e-a2ee-ca61172b2350",
   "metadata": {},
   "outputs": [],
   "source": [
    "child_df['100m이내_CCTV개수'] = 0\n",
    "\n",
    "for idx, child_row in child_df.iterrows():\n",
    "    if np.isnan(child_row['위도']) or np.isnan(child_row['경도']):\n",
    "        continue\n",
    "\n",
    "    lat1 = child_row['위도']\n",
    "    lon1 = child_row['경도']\n",
    "    distances = haversine(lat1, lon1, cctv_df['위도'], cctv_df['경도'])\n",
    "    cctv_count = (distances <= 100).sum()\n",
    "    child_df.at[idx, '100m이내_CCTV개수'] = cctv_count\n"
   ]
  },
  {
   "cell_type": "code",
   "execution_count": 11,
   "id": "73d67440-fa2d-405b-990c-c6f359065a96",
   "metadata": {},
   "outputs": [
    {
     "name": "stdout",
     "output_type": "stream",
     "text": [
      "✅ 어린이 보호구역 총 개수: 66\n",
      "✅ CCTV 설치된 보호구역 수: 64\n",
      "✅ CCTV 없는 보호구역 수: 2\n",
      "✅ CCTV 커버율: 96.97%\n"
     ]
    }
   ],
   "source": [
    "total_zones = len(child_df)\n",
    "zones_with_cctv = (child_df['100m이내_CCTV개수'] > 0).sum()\n",
    "zones_without_cctv = (child_df['100m이내_CCTV개수'] == 0).sum()\n",
    "coverage_rate = (zones_with_cctv / total_zones) * 100\n",
    "\n",
    "print(f\"✅ 어린이 보호구역 총 개수: {total_zones}\")\n",
    "print(f\"✅ CCTV 설치된 보호구역 수: {zones_with_cctv}\")\n",
    "print(f\"✅ CCTV 없는 보호구역 수: {zones_without_cctv}\")\n",
    "print(f\"✅ CCTV 커버율: {coverage_rate:.2f}%\")\n"
   ]
  },
  {
   "cell_type": "code",
   "execution_count": 14,
   "id": "d8b0fca7-adc0-4fb9-a5b3-4ec990b448ad",
   "metadata": {},
   "outputs": [
    {
     "data": {
      "image/png": "iVBORw0KGgoAAAANSUhEUgAAAxYAAAHqCAYAAACZcdjsAAAAOnRFWHRTb2Z0d2FyZQBNYXRwbG90bGliIHZlcnNpb24zLjEwLjEsIGh0dHBzOi8vbWF0cGxvdGxpYi5vcmcvc2/+5QAAAAlwSFlzAAAPYQAAD2EBqD+naQAAQBVJREFUeJzt3XuczPX////7zO7srLVWWKfNllAkLDkkhA4WoaQSK73zTiqUpJN6065DyrvDW6WoKIqidECLXXlfbL2VcliHpORQCp8cNku7O8bO/P7w2/kas7sz6zXrNbNu18tlLu085zmv18POs5m57+v5fL0sbrfbLQAAAAAwwGp2AQAAAADCH8ECAAAAgGEECwAAAACGESwAAAAAGEawAAAAAGAYwQIAAACAYQQLAAAAAIYRLAAAAAAYRrAAAFQohYWFZpcAAOclggUAmGjmzJlq1KiRYmJidPXVV2vNmjU+fRo2bKivvvqqTNtt0qSJNm7cKEm677779PLLLwel3lD3559/KioqSseOHSv28YYNG+rbb7/1aZ86daosFovXbd++fV59vvrqKzVu3Nhwjffff7/+85//SJI++OAD3XzzzX6f89prr2ngwIFnvc8XXnhBAwYMKLVPx44d9fHHH/u0z5s3z+d3U9JtyZIlZ10jgPBHsAAQtp577jlFRERo/fr1xT6en5+vUaNGqU6dOoqNjdV1113n+bJ9Nv2CbebMmZowYYLeffddHThwQEOHDlWPHj20ZcsWr34Oh0MOh8OrbcqUKXrnnXdK3HZBQYHnOcU9vyS5ubmaNGmSWrdurbi4OFksFlWrVk033nijT1+Hw6FXXnlFHTt2VLVq1WSxWFSlShW1a9dOBQUFGjZsWKlfQqOiovTaa6/piiuuKLWmRYsW6dJLLw2o/l9//VWRkZGqXLlysY87HA4VFBT4tI8ZM0bHjh3z3I4fP66EhASf5wbye3zuued8/q3x8fGeMVVQUOCpIZBtulwuzZo1S7t27ZLb7fa7/+KcPHlSJ0+eLLVPYWFhsX0GDRokt9utZcuWqWHDhnK73V63xo0ba8mSJXK73erTp89Z1QegYiBYAAg7hYWFeuCBB7RgwQK5XC45nc5i+w0aNEjr16/XsmXLtH37dl1zzTXq2rWrfvvtt7PqF0wnTpzQuHHj9MYbb6hTp06Ki4vTPffco2HDhunJJ5/0+/wffvhBO3fuDGpNW7duVbNmzZSVlaVnnnlGW7du1f/93//p66+/1uDBg736/v7772rbtq3ef/99Pfjgg9qwYYP+/PNPrVu3TqNGjVJERIReffVV5eTkeG52u11Llizx3D98+LD69eun7du3Kzs7u8S65syZ4/ev7UWys7OVmJgoq/XUx5vL5fJ8kS8uUBSJiIhQbGys51ZSMAnE448/rvz8fM/t2LFjiouL044dO85qe08//bScTqfsdrsmT5581nUtWrSo1KC3du3as942AEhSpNkFAEBZTZ06VT///LOysrIUFxdXbJ81a9ZoxYoV2r17t2rVqiVJSktL0w8//KAJEybo7bffLlO/YFuzZo0KCgrUs2dPr/ZBgwapbdu2Onr0qKpWrVou+y5OTk6ObrzxRt11112aNGmS12O1atXyOqrgdDp18803q1WrVpo9e7YiIiI8j9WsWdNrupDdbvfaVmxsrC644ALP/SpVqujaa6/VggUL1LJlS5+6Dh8+rOXLl+uFF17w+29wu9168803tXPnTn3xxRfq1auXUlNTNXHixFKf16VLF2VlZfm0X3jhhfrxxx9VpUoVv/s+ndVqVXR0tFddBw8eVMOGDcu0nfz8fI0ePVpLlizRqlWrFBcXp44dO+rgwYN64YUXZLPZyrS9W2+9tdipTkXat29fpu0BwJk4YgEg7Dz44INatmxZqV/4Pv30U914442esFDk7rvv1uLFi8vc7+2339bgwYM1ffp0XXzxxapcubJ69OihvXv36q+//lJKSoqqVq2qunXrBhRGtm/friuvvNLny2GrVq0UExOjn376ye82gunFF19UQkKC3y/h0qkjCIcOHdLMmTO9QsXZSklJ0cKFC4t9bOHChWrVqpUuu+wyv9uZNm2a/vzzT7322mu6++67tXPnTk2YMMFr2s6FF17o87z//ve/cjqdXrdZs2ZJkqEjF0WKpkAlJSUF1L+wsFCLFi1SmzZt9MMPP+ibb75R48aNVbduXX377bdav369mjVrpk8++cTv9KYiFoul1ClXbrdbDodDFosloO0BQHEIFgDCTmxsrKKiokrts3HjRl155ZU+7VdeeaUOHjyoP/74o0z9IiMjlZGRoQ8++ECLFi3SDz/8oAsvvFBDhgzRoEGDVK9ePW3btk3vvfeexo4dqy+//LLU+g4cOKAaNWoU+1hCQoJnv+fKhx9+qPvvvz+gL5YffvihhgwZ4vVXeSNuvfVW/fHHH/ruu+98Hps3b57PNKzivPvuuxo3bpwWLlyoESNGaNiwYerUqZO+/vprv8+1Wq2KjIz03E6ePKnJkyfr0Ucf9UypMmLOnDnq27evIiMDmyTQqlUr/etf/9ITTzyhrKwsXXTRRZ7HatWqpaysLD366KMaM2aM6tatq3Xr1vndZtOmTZWRkVHiNCir1aqdO3cGvJYFAIpDsABQIe3bt09169b1aa9Tp47n8bL0k04tbP7444/Vpk0b1a9fX9OmTdNXX30lp9OpqVOn6sILL9QNN9ygoUOH6r333jvr2ov+um7U1VdfLYvFojlz5pTa7/jx49q5c6fatm0b0Hazs7MD7huIqlWrqnfv3lqwYIFX++7du/X999+Xur7C7XZrxIgReuyxx7Rs2TJdddVVkqTJkyfrmWeeUc+ePcs8ne3JJ5/UBRdcoBEjRpT9H3OG33//XbNnz9bo0aO92seOHSuLxaIhQ4b4PGfRokXatm2b7rrrrmKDntVq1b333qtdu3bp888/V/Pmzf3W0adPHzkcDp+F16ffcnNziw3ZABAoggWACsnhcBR7VMNqtcpms3mdlSeQftKpU7gWBQ7p1JGTmjVr6o477vB6bsOGDf0u/K5Tp44OHTrk0+52u7Vv3z4lJiaW/g8MwOrVq5Wfn68777yz1H5Hjx6VpIDXdJTH+o+i6VCnB6oPPvhAycnJio+PL/F5FotFDRo0UHZ2tjp16uT12P33368dO3bolltuCbiOV199VdOmTdMll1wS8BGGkrhcLt1zzz264447fL6wT5w4Ufn5+XrzzTd9nnfppZcGdOTIYrGoQ4cOPutYTud0Or0Wrwd6O32K1c033yyLxaKePXtq586dPkc7fvrpJ/Xp00cWi0WDBg0qw28IQEVDsABQIdntdp04ccKnvegsUpUqVSpTP6n4L96RkZFeU1WK2lwuV6n1NW3aVBs2bPA5o9X69evlcDjUpEmTUp8fiKioKEVHR/tdB1G0AL4oYPgTFxcXcN9A9erVS8eOHfO6jkeg06DGjBlT7NoJ6VSAO33K2aefflrsImW3263x48dr6tSp+vbbb3XgwAENGTIk4DUMxXnooYe0b98+zzUrThcZGano6GivNTb79++X1WoN+JoRp9+ee+65Ymto1qyZKlWqVOZbr169vH5nZ65BeeSRRzRs2DCf9vfff/+sf18Awh/BAkCFVKdOHe3fv9+n/cCBA5Kk2rVrl6lfacp6dh7p1DSl2NhYLVu2zKt93rx56tWrl98zEUVEROjIkSM6cuSIDh48qB9++EEff/yx0tLSPLUHqkqVKrroootKvB7ImZo1axZw30DZ7XbddtttnulQ2dnZ+uOPP3TTTTcFvI3//ve/XmslirvddNNNysnJ8Xre9u3blZycrE8//VRr1qzRVVddpeXLl2vfvn267rrrynya2OPHj+v2229XZmamli9frtjY2ICeV7duXZ8v6kW3adOmKTk5ucTHn3jiiWK3+dNPPxU77Sk/P1/SqelmxT2+YsUKzzbOXIMSGRnpCTTFtQM4fxEsAFRIzZs314YNG3zaN2zYoAsuuED16tUrU79gs9lsmjRpkh544AGtWbNGeXl5mj17tmbPnq0pU6b4fX737t01b948XXTRRWratKn69OmjGTNm6Pjx42dVz2233aa33nor4L5z5swp9kiPESkpKfroo4/kcrk0b9483XbbbWVaIH7ttdd6LgRX3M3pdMrtdnsFhVWrVql9+/a69tprtX79es8UtNjYWKWnp6tTp06aOXNmwDWcOHFCV111lf7880/973//K/FISkkiIiKKDURFRzJKCkz+vtCPHz9eS5cuLVMtAFBWXMcCQIV000036aabbtLBgwdVs2ZNT/u7777rmQ9eln7l4Z577lFhYaEGDx6sffv2qVWrVsrIyAhoGlRKSopSUlKCVsvjjz+upKQkTZgwQePHjy+179ChQ/XGG29o+PDhevPNN4Ny5iRJ6tq1q6xWq/773//qww8/DPq0muIWxXfo0EFbt24tNkBGRkbq2WefLdM+oqKiNHXqVPXo0SMop+INlu+++07Vq1cv8/NKmgpW9Lss6XGj61MAhCf+zwdQIV1//fXq0KGD+vXrp1dffVU1a9bUW2+9peXLl3udnjPQfuVl2LBhGjZsWLnvx5/atWtr6dKl6t27t7777js98MADSkpKkt1u16FDh7R582bPIvVKlSpp6dKl6tmzp6655hqNHj1abdq0UWxsrP766y9999136t+/f5m/XFqtVg0cOFCjR49WRESEOnfuXKbn79q1S+3atdNff/1V7OMWi0V16tTxuiZGdHR00I9Knb4+IVTZbDYNGzZM1apVK7HPt99+q6uvvrrU7RS3+Fw6tfA+0KulA6g4mAoFIKwVTQUpzqJFi9SsWTN169ZNjRo10sqVK5WZmelzRCCQfkWLbc8UHR3t026324N2jYdzqU2bNtq2bZtat26tf/3rX7r88stVp04ddenSRZ9//rlX3wYNGmjjxo3q16+fXnjhBSUlJal27dpq27at5s6dW+xfsov7XZ3pzjvv1JYtWzR48OAyHy367bffFBkZKafTWeJUqL1793qd2et8YbValZ+f7znrU9G6Dbvd7nU2qNNPJtC+fftST09b2o1QAZyfOGIBIKydeVal08XFxemNN97QG2+8Ueo2Aul35513Fnva1u3bt/u0DRw4UAMHDix1n2Vht9tLPaVocaKjoz2BKzo6OuDnV69eXWlpaUpLS/PbNyYmRmPGjNGYMWMC2nZJRxJO17Jly7O+hsfFF18sp9Ppd2rWqFGjij1Tkz9n8zoU52xeG5vNdlYnCSjSsWNHjR8/Xk899VSp/apXr67Dhw+f9X4AnN8s7mBchQkAAADAeY2pUAAAAAAMI1gAAAAAMIxgAQAAAMAwggUAAAAAwyrsWaFcLpf27dunKlWqlOsFrgAAAICKyu1269ixY0pISPB71r0KGyz27dunxMREs8sAAAAAwt7evXv9XlC0wgaLKlWqSDr1S4iLizOlBqfTqYyMDCUnJxs6/zjAWEIwMI4QDIwjBAtjKTzk5uYqMTHR8926NBU2WBRNf4qLizM1WMTExCguLo7/YWAIYwnBwDhCMDCOECyMpfASyNICFm8DAAAAMIxgAQAAAMAwggUAAAAAwwgWAAAAAAwjWAAAAAAwjGABAAAAwDCCBQAAAADDCBYAAAAADCNYAAAAADCMYAEAAADAMIIFAAAAAMMIFgAAAAAMMz1YzJ49W3a7XXv27PF5bOnSpbr22mvVunVrXXHFFRo5cuS5LxAAAACAX5Fm7nzcuHFat26dqlWrppMnT3o99vbbb2v27NmaP3++6tevL0lyOp0mVAkAAADAH9OChcvlUt26dbV06VI1bNjQ67GjR49q7Nix2rJli+rUqeNpt9ls57pMAAAAAAEwLVhYrVYNHz682MfS09N17bXXeoUKAAAAAKHL1KlQJdm0aZOaNGmitLQ0ffbZZ7JarerTp4/Gjh0ru91e7HMcDoccDofnfm5urqRT06fMmkJVtF+mcMEoxhKCgXGEYGAcIVgYS+GhLK+Pxe12u8uxloDUr19fK1euVKNGjSRJ9957r9LT0/X8889r4MCBKigo0D333KPKlStr1qxZxW4jNTVVaWlpPu3z589XTExMudYPAAAAVER5eXlKSUnR0aNHFRcXV2rfkAwW9913n3Jzc/XBBx94+hw5ckQJCQn666+/FB0d7bON4o5YJCYm6tChQ35/CeXF6XQqMzNT3bp1Y30IDGEsIRiKxtG4dVY5XBazywlZW1O7m11CSOP9CMHCWAoPubm5io+PDyhYhORUqFq1avmsr6hevboqV66so0ePFhss7HZ7sdOkbDab6YM1FGpAxcBYQjA4XBY5CgkWJeH/scDwfoRgYSyFtrK8NqZfx6I4bdu21ZYtW7zaDh8+rMLCQtWqVcukqgAAAACUJCSDRY8ePbR161Z99tlnkk5NcxoxYoQeeughWSz8lQ0AAAAINSERLKKiorwOs0RFRWnx4sV6+eWXddlll+mKK65Q/fr1NX78eBOrBAAAAFCSkFhj8fPPP/u0NWnSRKtXrzahGgAAAABlFRJHLAAAAACEN4IFAAAAAMMIFgAAAAAMI1gAAAAAMIxgAQAAAMAwggUAAAAAwwgWAAAAAAwjWAAAAAAwjGABAAAAwDCCBQAAAADDCBYAAAAADCNYAAAAADCMYAEAAADAMIIFAAAAAMMIFgAAAAAMI1gAAAAAMIxgAQAAAMAwggUAAAAAwwgWAAAAAAwjWAAAAAAwjGABAAAAwDCCBQAAAADDCBYAAAAADCNYAAAAADCMYAEAAADAMIIFAAAAAMMIFgAAAAAMI1gAAAAAMIxgAQAAAMAwggUAAAAAwwgWAAAAAAwjWAAAAAAwjGABAAAAwDCCBQAAAADDCBYAAAAADCNYAAAAADDM9GAxe/Zs2e127dmzp8Q+Xbt21SWXXHLuigIAAABQJpFm7nzcuHFat26dqlWrppMnTxbbZ968eYqJiZHT6TzH1QEAAAAIlGlHLFwul+rWraulS5cqOjq62D7Hjh3TlClTNHHixHNcHQAAAICyMO2IhdVq1fDhw0vtk5aWpmHDhqlGjRrnqCoAAAAAZ8PUqVCl+fHHH7Vy5UqtW7dOv//+u9/+DodDDofDcz83N1eS5HQ6TZtGVbRfpnHBKMYSgqFo/NitbpMrCW38f1Y63o8QLIyl8FCW1ydkg8WDDz6o559/XpGRgZU4ZcoUpaWl+bRnZGQoJiYm2OWVSWZmpqn7R8XBWEIwTGzjMruEkJaenm52CWGB9yMEC2MptOXl5QXcNySDxUcffaRKlSqpe/fuAT9n7NixeuSRRzz3c3NzlZiYqOTkZMXFxZVHmX45nU5lZmaqW7dustlsptSAioGxhGAoGkfj1lnlcFnMLidkbU0N/LPnfMT7EYKFsRQeimYBBSLkgsWJEyc0duxYLVu2rEzPs9vtstvtPu02m830wRoKNaBiYCwhGBwuixyFBIuS8P9YYHg/QrAwlkJbWV6bkAsWx44d04kTJ3T77bd72k6cOKE///xTLVu21NNPP+31GAAAAADzhVywqFGjhn777Tevtj179qhTp07Kzs42pygAAAAApTL9ytuSFBUVVephlsjISA6RAQAAACEsJI5Y/Pzzz6U+Xq9ePe3evfscVQMAAACgrELiiAUAAACA8EawAAAAAGAYwQIAAACAYQQLAAAAAIYRLAAAAAAYRrAAAAAAYBjBAgAAAIBhBAsAAAAAhhEsAAAAABhGsAAAAABgGMECAAAAgGEECwAAAACGESwAAAAAGEawAAAAAGAYwQIAAACAYQQLAAAAAIYRLAAAAAAYRrAAAAAAYBjBAgAAAIBhBAsAAAAAhhEsAAAAABhGsAAAAABgGMECAAAAgGEECwAAAACGESwAAAAAGEawAAAAAGAYwQIAAACAYQQLAAAAAIYRLAAAAAAYRrAAAAAAYBjBAgAAAIBhBAsAAAAAhhEsAAAAABhGsAAAAABgGMECAAAAgGEECwAAAACGESwAAAAAGBYSwWL27Nmy2+3as2ePp23//v0aMmSIWrRooaSkJHXp0kUbNmwwr0gAAAAAJYo0u4Bx48Zp3bp1qlatmk6ePOlpd7lcGjJkiN555x1J0hdffKG+ffvq559/VnR0tFnlAgAAACiGqUcsXC6X6tatq6VLl/qEhQsvvFCdO3f23O/Vq5eqV6+ubdu2nesyAQAAAPhh6hELq9Wq4cOHB9w/JyeHoxUAAABACDJ9KlSg0tPTVatWLTVt2rTYxx0OhxwOh+d+bm6uJMnpdMrpdJ6TGs9UtF+z9o+Kg7GEYCgaP3ar2+RKQhv/n5WO9yMEC2MpPJTl9bG43e6Q+ISpX7++Vq5cqUaNGvk8lpeXp6SkJM2YMUPXX399sc9PTU1VWlqaT/v8+fMVExMT9HoBAACAii4vL08pKSk6evSo4uLiSu0bFsEiJSVFCQkJeuGFF0p8fnFHLBITE3Xo0CG/v4Ty4nQ6lZmZqW7duslms5lSAyqGorE0bp1VDpfF7HIQpuxWtya2cTGO/Nia2t3sEkIan20IFsZSeMjNzVV8fHxAwSLkp0JNmTJFhw8f1nvvvVdqP7vdLrvd7tNus9lMH6yhUAMqBofLIkchXwhhDOOodLxfB4bPNgQLYym0leW1Celg8eGHH2r+/Pn6+uuvFRERYXY5AAAAAEoQssHif//7nx5//HFlZWWpatWqZpcDAAAAoBQhEyyioqK8DrVMnTpVBQUF6tu3r1e/kSNHaujQoee4OgAAAAClCZlg8fPPP3vd//zzz02qBAAAAEBZmXrlbQAAAAAVA8ECAAAAgGEECwAAAACGESwAAAAAGEawAAAAAGAYwQIAAACAYQQLAAAAAIYRLAAAAAAYRrAAAAAAYBjBAgAAAIBhBAsAAAAAhhEsAAAAABhGsAAAAABgGMECAAAAgGEECwAAAACGESwAAAAAGEawAAAAAGAYwQIAAACAYQQLAAAAAIYRLAAAAAAYRrAAAAAAYBjBAgAAAIBhBAsAAAAAhhEsAAAAABhGsAAAAABgmKFgsXz58mDVAQAAACCMlTlYbN68WYcPH5YkPfLII0EvCAAAAED4KXOweOSRR7Rjxw5JktvtDnpBAAAAAMJPmYLF5s2bdeDAAbVv316SZLFYyqUoAAAAAOEl4GBRWFiokSNH6sUXXyzPegAAAACEoYCChdPp1D333KMOHTqoe/fu5V0TAAAAgDAT6a/DgAEDtHXrVt1+++165plnvB5zu9268cYbvTcYGanFixcHt0oAAAAAIc1vsLj//vs1c+ZMpaen695771VCQoLX40888YT3BiP9bhIAAABABeM3BXTt2lVdu3bV7NmzdcMNN2jt2rWqUqWKpFOLt7t06VLuRQIAAAAIbQEv3v7nP/+p3r1769FHHy3PegAAAACEoTKdbnbKlCn68ssvtWvXrvKqBwAAAEAYKlOwiIiI0JNPPqm1a9dKCt4F8mbPni273a49e/Z4tf/444/q0qWLWrZsqVatWumTTz4Jyv4AAAAABFeZV1oPHTrU83OzZs0MFzBu3DitW7dO1apV08mTJz3tBQUFuvnmm/XWW2+pS5cuOnDggLp06aJGjRqpRYsWhvcLAAAAIHjKdMTiTB999JGhnbtcLtWtW1dLly5VdHS012MZGRlq1aqVZ3F4nTp1NGbMGM2ePdvQPgEAAAAEn6FgYXjnVquGDx+uiIgIn8dWrlzpc8apLl26KDMz81yVBwAAACBAIXvRiX379qlbt25ebYmJiSUuHHc4HHI4HJ77ubm5kk5dNdzpdJZfoaUo2q9Z+0fFUTSG7NbgrGvC+alo/DCOSsd7dun4bEOwMJbCQ1len5ANFn/99ZfP9Kjo6GgVFBTI7XbLYrF4PTZlyhSlpaX5bCcjI0MxMTHlWqs/HGVBsExs4zK7BFQAjKPSpaenm11CWOCzDcHCWApteXl5AfcN2WBht9tVUFDg1Zafny+73e4TKiRp7NixeuSRRzz3c3NzlZiYqOTkZMXFxZV7vcVxOp3KzMxUt27dZLPZTKkBFUPRWBq3ziqHy3f8A4GwW92a2MbFOPJja2p3s0sIabwfBY6xVDq+J4WHollAgfAbLHJzc73O1nS6KlWqyGazKScnx3Pq2aioKMXGxgZcQEnq1aun3377zatt7969qlevXrH97Xa77Ha7T7vNZjN9sIZCDagYHC6LHIV8kMMYxlHpeL8ODOPIP8ZSYPieFNrK8tr4DRbt2rWTw+HQ/v37lZCQoBMnTujo0aOqWbOmxowZoyVLlmjbtm2eBdiXXHKJVq1adfbV//86dOigL774QiNGjPC0rV69Wh06dDC8bQAAAADB5fesUNu3b9fu3bt16aWXateuXVq5cqV69OihXbt2acSIEfr111/122+/affu3dq9e3dQQoUk3XbbbVq7dq1Wr14tSTpw4IBeeOEFr6ABAAAAIDQEvMaiaF2DxWLxWuNQ3HqHsxEVFeV1qKVy5cpavHixhg8fruPHj8vlciktLU1XXXVVUPYHAAAAIHgCDha5ubnq37+/JHnWUwTTzz//7NOWlJSk//3vf0HfFwAAAIDgCugCeS+99JIqV66sfv36KTk5WevWrdO3334rqXxCBgAAAIDwEtARi1mzZmnx4sVq2LChpFMLtCdNmqSlS5eWa3EAAAAAwkNARyz+/vtvT6iQpM6dO2vHjh2SgrfGAgAAAED4CihYVKlSRUePHvXc/+WXX5SYmHhqA9aANgEAAACgAgsoFdx777268847tW3bNq1bt0733HOPRo4cKUnasGFDuRYIAAAAIPQFtMbioYceUmFhoQYOHKioqCg9/PDD6tu3r6RTp4kFAAAAcH4L+HSzo0eP1ujRo8uzFgAAAABh6qwXSMyaNSuYdQAAAAAIY2cdLF588cVg1gEAAAAgjAU0FWrGjBnas2ePqlevroYNG6pNmzblXRcAAACAMBLQEYsJEybo8ssvV3R0tL766isNGjRIv/zyS3nXBgAAACBMBHTEomrVqvrHP/7h1Xb55ZeXS0EAAAAAwk9ARyyKu7o2V9wGAAAAUCTg082eye12q2nTpj5tNptNmzdvNlwYAAAAgPBx1sFCkpYtW+bTFhERYWSTAAAAAMLQWQcLi8Wiiy++OJi1AAAAAAhTZ30dCwAAAAAoElCwsFrJHwAAAABKFlBi2LRpk0+b2+0OejEAAAAAwlNAwaK4BdnJyclBLwYAAABAeDrrOU7Tpk3zuj9r1izDxQAAAAAITwEFi0OHDmnjxo2l9nnxxReDUhAAAACA8BNQsFi/fr3eeeedUvuw5gIAAAA4f5VpKpTL5dK9994ru92u5ORk5eTkeB6zWCxBLw4AAABAePAbLNauXev5ee7cucrJydHOnTvVpk0bPfXUU+VaHAAAAIDw4DdYDB48WBaLRW63W5999pkmT56sevXqKS0tTatXrz4XNQIAAAAIcZH+Opy+dmLv3r1q0KCBJMlms8lisahFixasrwAAAADOc2VaY1GjRg2vdRUnT57U0qVLtWTJkqAXBgAAACB8+A0Wt912m+fn9u3ba86cOZKkjIwMXXLJJbroootUv379cisQAAAAQOjzOxVqypQpWrFihSwWi0aOHKlOnTpp/vz52r9/v9LT089FjQAAAABCnN9gcbpatWrp+++/1zfffKNWrVqpdu3a5VUXAAAAgDASULC4+OKL1aFDB0lS1apV1aNHD58+LOAGAAAAzl8BBYsmTZqoSZMmpfZJTk4OSkEAAAAAwk+ZzgpVmhYtWgRrUwAAAADCTNCCxYsvvhisTQEAAAAIMwFNhbr77rvlcrm82urXr68JEyZ47rPGAgAAADh/BXTE4o477tAdd9yhr776SgMGDNDtt9+ud99916uPxWIpj/oAAAAAhIGAgkXPnj3Vq1cvxcbG6sYbb1SfPn1UtWrV8q5Nubm5euihh5SUlKSWLVuqY8eOWrlyZbnvFwAAAEDZlOk6FqcflTgXRyj69++vLl26aOPGjbJarVq/fr369Omjb775RhdffHG57x8AAABAYMoULE5fR+F2u9W0aVPPz+URNFatWqUFCxbIaj11YKV169a68sortX79eoIFAAAAEEIMnRVq2bJlnlt5aN++vV566SXP/aysLK1Zs0bt2rUrl/0BAAAAODtlOmJxOovFUu5HDebMmaOePXvq22+/VePGjTV//ny9//77qlevnk9fh8Mhh8PhuZ+bmytJcjqdcjqd5VpnSYr2a9b+UXEUjSG7lbOv4ewVjR/GUel4zy4d70eBYyyVju9J4aEsr4/FHcB5Yp1Op9xut1q3bq0NGzbI5XKpZcuW+vHHHz19mjZtqm3btp1dxSVwuVyaPn26Ro8ercLCQg0cOFDTpk1TzZo1ffqmpqYqLS3Np33+/PmKiYkJal0AAADA+SAvL08pKSk6evSo4uLiSu0bULCoW7euCgsLPWsp3G63GjRooLVr13r6lEewSElJ0Y4dO/Tvf/9bF110kdLS0pSRkaHvv//e56hFcUcsEhMTdejQIb+/hPLidDqVmZmpbt26yWazmVIDKoaisTRunVUOF6d2xtmxW92a2MbFOPJja2p3s0sIabwfBY6xVDq+J4WH3NxcxcfHBxQsApoKtX//fr99gn2BvF9++UXp6en69ddfPae2nTNnju6++269/vrrevbZZ7362+122e12n+3YbDbTB2so1ICKweGyyFHIBzmMYRyVjvfrwDCO/GMsBYbvSaGtLK+NocXbp0tOTg7WpiSdSkcJCQk+18to3ry5cnJygrovAAAAAMYELVhMmzYtWJuSJCUlJalKlSp6+eWX5XK5JEk7d+7UW2+9pTvvvDOo+wIAAABgzFmfFaq8RURE6IsvvtDTTz+tli1bKiIiQjExMZo6dao6duxodnkAAAAAThOywUKS4uPjNXPmTLPLAAAAAOBH0KZCAQAAADh/ESwAAAAAGOZ3KtT+/fvLdMW9yMhIJSQkGCoKAAAAQHjxGyx69+7tufJ2IKKiorR+/XrDhQEAAAAIH36DBSEBAAAAgD+ssQAAAABgWMCnm92zZ49ef/11rV27VgcPHlTdunV1ww036N5771V8fHx51ggAAAAgxAV0xCIzM1PXXHONqlevrn//+99aunSp0tLSdPToUV155ZXavn17edcJAAAAIIQFdMTiqaeeUkZGhi6//HJPW4MGDdSpUyddf/31evLJJ/XZZ5+VV40AAAAAQlxARywKCgq8QsXpunXrpl27dgW1KAAAAADhJaBgERMTo40bNxb72JIlS3TppZcGtSgAAAAA4SWgqVAvvPCCevfurf79++uaa67RBRdcoMOHDyszM1NfffWVMjIyyrtOAAAAACEsoGBxzTXXKDs7W/PmzdOnn36qnJwcxcfH65prrtFLL72k2NjY8q4TAAAAQAgL+HSzNWvW1MMPP1yOpQAAAAAIV1wgDwAAAIBhfo9YbNmyRU6ns9Q+iYmJqlmzpiQpNTVVqampQSkOAAAAQHjwGyzGjBlTarCwWCy688479c9//lOS9MknnxAsAAAAgPOM32BR1jM+ud3usy4GAACz1X/yC7NLCGn2CLemtjO7CgCh6KzXWLz++ut69913fdotFouRegAAAACEoYDOCrVr1y798ccfkqTGjRurVq1aqlWrltavX1+uxQEAAAAIDwEFiw4dOqhdu3Y6ceKE/v77b3311Vdq0KCBPvvss3IuDwAAAEA4CChYVKtWTYsXL5YkNW/eXJKUkJCggwcPll9lAAAAAMJGQMHi9HUTRT/HxMQoPz9fkvTDDz/op59+ktvt1tGjR8uhTAAAAAChLOArb5+pUqVKKigokHQqWCxbtkwWi0XDhw8PWnEAAAAAwkNAweL0U8geOnRIEyZMkMPhkMvlkiT1799f/fv3L58KAQAAAIS8gE43+/zzz3t+fv3111W5cmXVqFFD06ZNK7fCAAAAAISPgI5Y3HTTTZ6f+/btW161AAAAAAhTZ32BPAAAAAAo4veIxZYtW+R0OgPeoM1m85ySFgAAAMD5wW+wGDNmjE+w+P7779WuXTuvRd1FoqKitGLFiuBVCAAAACDk+Q0WGRkZPm2XX365Vq1aVS4FAQAAAAg/Z7XG4vQL5gEAAABAwMEiPz9fM2bM0D/+8Q/t3btX9913nz744APPtSwAAAAAnL8CChabNm3SZZddpm+++UbJyclatGiR2rdvr4ULF+rKK6/UkSNHyrtOAAAAACEsoOtYDB8+XK+++qrPNSyGDBmi1157TSNHjtT8+fPLoz4AAAAAYSCgIxa7du0q8cJ4Q4cO1bp164JZEwAAAIAwE1CwqF69urZt21bsY2vWrNHFF18c1KKK5Ofn65lnnlHr1q3VqlUrzkYFAAAAhKiApkJNnDhR1113nR577DF16dJF1apV05EjR7R8+XLNmjVLn332WdALO3nypHr27Klrr71Wa9askd1ul9vtVmFhYdD3BQAAAMCYgIJFv379dNlll+ntt9/W6NGjlZOToxo1aqhTp07KysrSRRddFPTC3nvvPVWtWlXPPPOMp81isSgyMqCSAQAAAJxDAX9Lb9asmf7zn/+UYynePvzwQ40aNeqc7Q8AAADA2QvZP/9v2rRJlSpV0q233qodO3YoPj5ejz/+uHr06FFsf4fDIYfD4bmfm5srSXI6nXI6neek5jMV7des/aPiKBpDdqvb5EoQzorGD+MIRjCOAsfnf+n4nhQeyvL6WNxud0i+M9hsNnXu3FnTp09XkyZNtHnzZvXu3Vtz585V165dffqnpqYqLS3Np33+/PmKiYk5BxUDAAAAFUteXp5SUlJ09OhRxcXFldo3ZIOF3W7X4sWL1b17d0/byy+/rI0bN2ru3Lk+/Ys7YpGYmKhDhw75/SWUF6fTqczMTHXr1k02m82UGlAxFI2lceuscrgsZpeDMGW3ujWxjYtxBEMYR4Hbmtrdf6fzGN+TwkNubq7i4+MDChYhOxWqVq1auuyyy7zaGjVqpIyMjGL72+122e12n3abzWb6YA2FGlAxOFwWOQr5IIcxjCMEA+PIPz77A8P3pNBWltcmoOtYmKFt27basmWLV9uOHTvUqFEjkyoCAAAAUJKQDRbDhw/XU089pQMHDkiSfvzxR73yyisaMWKEyZUBAAAAOFPIToW64YYb9PDDD6tz586yWq2qXLmyZsyYoSZNmphdGgAAAIAzhGywkKShQ4dq6NChZpcBAAAAwI+QnQoFAAAAIHwQLAAAAAAYRrAAAAAAYBjBAgAAAIBhBAsAAAAAhhEsAAAAABhGsAAAAABgGMECAAAAgGEECwAAAACGESwAAAAAGEawAAAAAGAYwQIAAACAYQQLAAAAAIYRLAAAAAAYRrAAAAAAYBjBAgAAAIBhBAsAAAAAhhEsAAAAABhGsAAAAABgGMECAAAAgGEECwAAAACGESwAAAAAGEawAAAAAGAYwQIAAACAYQQLAAAAAIYRLAAAAAAYRrAAAAAAYBjBAgAAAIBhBAsAAAAAhhEsAAAAABhGsAAAAABgGMECAAAAgGEECwAAAACGESwAAAAAGEawAAAAAGAYwQIAAACAYQQLAAAAAIaFRbDYvn277Ha70tLSzC4FAAAAQDHCIliMGjVK1113nZxOp9mlAAAAAChGpNkF+LNo0SLVrl1bDRo00MmTJ80uBwAAAEAxQvqIRV5ensaPH6/nnnvO7FIAAAAAlCKkj1g8++yzGjRokBISEvz2dTgccjgcnvu5ubmSJKfTadoUqqL9MoULRhWNIbvVbXIlCGdF44dxBCMYR4Hj8790fE8KD2V5fUI2WOzcuVOLFi3Sxo0bA+o/ZcqUYhd3Z2RkKCYmJtjllUlmZqap+0fFMbGNy+wSUAEwjhAMjCP/0tPTzS4hLPA9KbTl5eUF3Ddkg8WoUaM0adIkRUdHB9R/7NixeuSRRzz3c3NzlZiYqOTkZMXFxZVXmaVyOp3KzMxUt27dZLPZTKkBFUPRWBq3ziqHy2J2OQhTdqtbE9u4GEcwhHEUuK2p3c0uIaTxPSk8FM0CCkRIBovly5crLy9Pt956a8DPsdvtstvtPu02m830wRoKNaBicLgschTyQQ5jGEcIBsaRf3z2B4bvSaGtLK9NSAaL3bt36/fff1fLli09bQcOHJB0KnRkZWWZPr0JAAAAwP8TksHigQce0AMPPODVlpqaqpMnT2rSpEkmVQUAAACgJCEZLIpjs9lksXDIFQAAAAhFYRMsnn76abNLAAAAAFCCkL5AHgAAAIDwQLAAAAAAYBjBAgAAAIBhBAsAAAAAhhEsAAAAABhGsAAAAABgGMECAAAAgGEECwAAAACGESwAAAAAGEawAAAAAGAYwQIAAACAYQQLAAAAAIYRLAAAAAAYRrAAAAAAYBjBAgAAAIBhBAsAAAAAhhEsAAAAABgWaXYBQP0nvzC7hJBnj3BrajuzqwAAlAWfb6Xjs63i4YgFAAAAAMMIFgAAAAAMI1gAAAAAMIxgAQAAAMAwggUAAAAAwwgWAAAAAAwjWAAAAAAwjGABAAAAwDCCBQAAAADDCBYAAAAADCNYAAAAADCMYAEAAADAMIIFAAAAAMMIFgAAAAAMI1gAAAAAMIxgAQAAAMAwggUAAAAAwwgWAAAAAAwL6WCRnp6u66+/Xi1atFCzZs10//33Ky8vz+yyAAAAAJwhpINFbGys5s6dq82bNys7O1vHjh3T+PHjzS4LAAAAwBkizS6gNJ07d/b8HBkZqccee0x33XWXiRUBAAAAKE5IH7E405EjRxQdHW12GQAAAADOENJHLM40Y8aMEo9YOBwOORwOz/3c3FxJktPplNPpPCf1nalov2btP1zYI9xmlxDy7Fa313+Bs8E4QjAwjhAsRWOI70mhrSyvj8XtdofFO8OKFSv04IMPasuWLbLb7T6Pp6amKi0tzad9/vz5iomJORclAgAAABVKXl6eUlJSdPToUcXFxZXaNyyCxd69e9WpUyctWrRIbdq0KbZPcUcsEhMTdejQIb+/hPLidDqVmZmpceuscrgsptSAisFudWtiGxdjCYYwjhAMjCMES9FY6tatm2w2m9nloAS5ubmKj48PKFiE/FSov//+W3379tWkSZNKDBWSZLfbiz2SYbPZTB+sDpdFjkLefGEcYwnBwDhCMDCOECyh8F0NJSvLaxPSi7cLCws1YMAA9ezZU4MHDza7HAAAAAAlCOlgMWrUKFWqVEkTJ040uxQAAAAApQjZqVA5OTmaPn26GjdurFatWnnaLRaLli9frtq1a5tYHQAAAIDThWywqFatmsJgXTkAAAAAhfhUKAAAAADhgWABAAAAwDCCBQAAAADDCBYAAAAADCNYAAAAADCMYAEAAADAMIIFAAAAAMMIFgAAAAAMI1gAAAAAMIxgAQAAAMAwggUAAAAAwwgWAAAAAAwjWAAAAAAwjGABAAAAwDCCBQAAAADDCBYAAAAADCNYAAAAADAs0uwCAAAAcP5qlrpCjkKL2WWErD3P9TK7hIBxxAIAAACAYQQLAAAAAIYRLAAAAAAYRrAAAAAAYBjBAgAAAIBhBAsAAAAAhhEsAAAAABhGsAAAAABgGMECAAAAgGEECwAAAACGESwAAAAAGEawAAAAAGAYwQIAAACAYQQLAAAAAIYRLAAAAAAYRrAAAAAAYBjBAgAAAIBhBAsAAAAAhhEsAAAAABgW8sHirbfeUvPmzZWUlKSePXvqjz/+MLskAAAAAGcI6WCxYsUKvfnmm/r666+1adMmDRkyRP369TO7LAAAAABnCOlgMXPmTE2YMEFVq1aVJPXv318RERHKzs42tzAAAAAAXkI6WHz55Zfq3LmzV1uXLl2UmZlpUkUAAAAAihNpdgElOX78uCIjI1W5cmWv9sTERG3ZssWnv8PhkMPh8Nw/evSoJOnIkSNyOp3lW2wJnE6n8vLyFOm0qtBlMaUGVAyRLrfy8lyMJRjCOEIwMI4QLIylwBw+fNjU/R87dkyS5Ha7/fYN2WDx119/KTo62qc9OjpaeXl5Pu1TpkxRWlqaT/sll1xSLvUB51qK2QWgQmAcIRgYRwgWxpJ/8S+aXcEpx44d8yxPKEnIBgu73a6CggKf9vz8fFWqVMmnfezYsXrkkUc8910ul44cOaIaNWrIYjEnBefm5ioxMVF79+5VXFycKTWgYmAsIRgYRwgGxhGChbEUHtxut44dO6aEhAS/fUM2WMTHxys/P1/Hjx9XbGysp33v3r2qV6+eT3+73S673e7VdsEFF5R3mQGJi4vjfxgEBWMJwcA4QjAwjhAsjKXQ5+9IRZGQXbxtsVh01VVXKSsry6t99erV6tChg0lVAQAAAChOyAYLSXrooYc0fvx45ebmSpIWLlyov//+W127djW3MAAAAABeQnYqlCTdcsst2rt3r66++mpZrVbVqVNHn3/+uazWkM5DHna7Xc8884zPFC2grBhLCAbGEYKBcYRgYSxVPBZ3IOeOAgAAAIBShMef/gEAAACENIIFAAAAAMMIFuXorbfeUvPmzZWUlKSePXvqjz/+MLskhJn09HRdf/31atGihZo1a6b777+/2AtEAoHavn277HZ7sRcUBfzJz8/XM888o9atW6tVq1a6/PLLtWrVKrPLQpjJzc3VQw89pKSkJLVs2VIdO3bUypUrzS4LQUCwKCcrVqzQm2++qa+//lqbNm3SkCFD1K9fP7PLQpiJjY3V3LlztXnzZmVnZ+vYsWMaP3682WUhjI0aNUrXXXednE6n2aUgzJw8eVI9e/aU1WrVmjVrtHHjRm3btk2dO3c2uzSEmf79+6tu3brauHGjsrOz9corr+iuu+7Sr7/+anZpMIhgUU5mzpypCRMmeC4o0r9/f0VERCg7O9vcwhBWOnfurAsvvFCSFBkZqccee0wZGRkmV4VwtWjRItWuXVtXXXWV2aUgDL333nuqWrWq11l8LBaLIiND+gSTCEGrVq3S8OHDPWf5bN26ta688kqtX7/e5MpgFMGinHz55Zc+f8Xp0qWLMjMzTaoIFcGRI0cUHR1tdhkIQ3l5eRo/fryee+45s0tBmPrwww913333mV0GKoD27dvrpZde8tzPysrSmjVr1K5dOxOrQjDwZ4ZycPz4cUVGRqpy5cpe7YmJidqyZYtJVaEimDFjhu666y6zy0AYevbZZzVo0CAlJCSYXQrC1KZNm1SpUiXdeuut2rFjh+Lj4/X444+rR48eZpeGMDNnzhz17NlT3377rRo3bqz58+fr/fffV7169cwuDQYRLMrBX3/9VexflaOjo1l4i7O2YsUKZWdn67333jO7FISZnTt3atGiRdq4caPZpSCMHT58WJMmTdL06dPVpEkTbd68Wb1799bcuXPVtWtXs8tDGLn44os1YsQIjR49WhkZGRo4cKDatm1rdlkIAqZClQO73a6CggKf9vz8fFWqVMmEihDu9u7dq2HDhmn+/PlcoRRlNmrUKE2aNIlpdDDEarXq8ccfV5MmTSRJLVq00OjRozV79myTK0O4ufPOOzV37lytXLlSO3fulM1mU4sWLfT777+bXRoMIliUg/j4eOXn5+v48eNe7Xv37uUwH8rs77//Vt++fTVp0iS1adPG7HIQZpYvX668vDzdeuutZpeCMFerVi1ddtllXm2NGjXSwYMHTaoI4eiXX35Renq6Vq5cqa5du6pBgwaaM2eOunfvrtdff93s8mAQU6HKgcVi0VVXXaWsrCzdeOONnvbVq1dr8uTJJlaGcFNYWKgBAwaoZ8+eGjx4sNnlIAzt3r1bv//+u1q2bOlpO3DggKRToSMrK0sxMTEmVYdw0rZtW23ZskWXXHKJp23Hjh1q1KiRiVUh3OTm5iohIcFz1swizZs31y+//GJSVQgWi9vtdptdREX06aefavLkyVq1apXi4uK0cOFCTZo0SdnZ2Z7TqwH+jBw5Un/++acWLFggi8VidjmoIFJTU3Xy5ElNmjTJ7FIQRlauXKmHH35YK1euVJ06dfTjjz+qZ8+eWr58uWd6FOBPYWGhOnTooAEDBmjUqFGyWq3auXOnevXqpVmzZqljx45mlwgDOGJRTm655Rbt3btXV199taxWq+rUqaPPP/+cUIGA5eTkaPr06WrcuLFatWrlabdYLFq+fLlq165tYnUIZzabjaCKMrvhhhv08MMPq3PnzrJarapcubJmzJhBqECZRERE6IsvvtDTTz+tli1bKiIiQjExMZo6dSqhogLgiAUAAAAAw/jzOQAAAADDCBYAAAAADCNYAAAAADCMYAEAAADAMIIFAAAAAMMIFgAAAAAMI1gAAMLS5MmTNXPmTElShw4d9Mcff5TYNzU1Va+//vq5Kg0AzksECwCAJCk9PV3Jyclq0aKFmjVrpgYNGujll1/26rN3717df//9atGihZKSktS4cWNdffXVkqQbb7xRLVu2VMuWLRUVFaWmTZt67q9du1bNmzcvcd+33HKLFi9e7NN+/PhxNW3aVE2aNFGTJk3UtGlTPfXUU5Ikp9Mpp9MpSTpx4oTn5zMVFBRozpw5Wr9+/Vn9XgAAgeHK2wAApaWlafXq1Xr99de9rqT8999/e37esGGDBgwYoMmTJ2v69OmKiIjw6pOenu7pW79+fS1evFiNGjWSJLndbh07dkybN29WixYtvPadk5Ojb775Rh9++KFPXbGxsdq2bZvn/po1azRmzJiA/10ul0sPPPCAevfurZ9++kkzZ87UfffdF/DzAQCBI1gAwHnuyy+/1KeffqrvvvtOUVFRXo9VrlxZ0qmjA3fccYfmzJmjDh06FNunNBaLRQMGDNDChQt9gsXHH3+sm266SXa73e92fvzxR7Vu3dpvP0k6dOiQBg0apJiYGM2cOVP5+fm67bbb9N1332nKlCmqVatWQNsBAASGqVAAcJ575ZVXNHbsWJ9QcbqlS5eqUaNGPqGiLFJSUvTRRx/5tM+fP1+DBg0KaBurVq3StddeW2qf/Px8PfHEE0pKSlJycrI+/vhjRUVFqWrVqlq2bJmaN2+u1q1ba8CAAcrNzT2rfwsAwBfBAgDOc9988406d+5suI8/LVq0UGRkpLKzsz1t+/bt0549ewLa9p49e7Rp0yb17dvX0zZp0iQ1adJEP/zwg6fNZrPpoosu0tatWzVmzBjPlC1JioyM1MMPP6ydO3fq7rvvVpUqVQz9mwAA/w/BAgDOczk5OapWrZrhPoFISUnRwoULPfcXLFigO+64QxaLpdTnORwODR48WOPGjfMKCv/617+0fft2XXHFFZ62yMhIjRgxotR6o6Ki1KNHD7/7BQAEjjUWAHCeq1q1qnJyclS3bl2/fYwaOHCgunfvrmeffVbSqWlQ77zzTqnPOXnypO6++24lJSXpjjvuKLXv8ePH1a5dO7lcroDqsVgsysrKUs2aNQP7BwAASkSwAIDzXOvWrZWVlVXql/bWrVtr7ty5Gjt2rKF9NWjQQDVq1ND69etVtWpVOZ1ONWvWrMT++/fvV//+/dWiRQu98sorfrd/5lmkiqSmpio6OlpPPvmkofoBACVjKhQAnOdGjhyp5557rsTrQEinrjOxbds2rV271vD+iqZDffDBB34Xba9Zs0ZDhgzR9OnTZbXykQUAoYx3aQA4z/Xp00fJycnq1auXfvnlF0970bUnJCk6OloLFizQoEGD9Nlnn3lNNSrrmZX69++vTz75RAsWLNDAgQNL7Xvrrbfqn//8Z5m2DwAwB8ECAKDnn39eDzzwgO677z61aNFCzZs3V9OmTfX+++97+rRv314ZGRlasmSJ58rbTZs21W233eazvaioKNlstmL3VadOHTVo0EC1a9dWvXr1zrpmm81W4j4AAOeexe12u80uAgAAIzp06KCFCxeWGFQmTZqk6OhoPfroo+e4MgA4fxAsAAAAABjGVCgAAAAAhhEsAAAAABhGsAAAAABgGMECAAAAgGEECwAAAACGESwAAAAAGEawAAAAAGAYwQIAAACAYQQLAAAAAIYRLAAAAAAY9v8BkuY5bbLiOU4AAAAASUVORK5CYII=",
      "text/plain": [
       "<Figure size 800x500 with 1 Axes>"
      ]
     },
     "metadata": {},
     "output_type": "display_data"
    },
    {
     "name": "stdout",
     "output_type": "stream",
     "text": [
      "✅ CCTV 설치 개수 분포 그래프 저장 완료: '../../../results/cctv_distribution_histogram.png'\n"
     ]
    }
   ],
   "source": [
    "import matplotlib.pyplot as plt \n",
    "\n",
    "# 한글 폰트 설정 (Linux 기준 나눔고딕 사용)\n",
    "plt.rcParams['font.family'] = 'NanumGothic'\n",
    "plt.rcParams['axes.unicode_minus'] = False\n",
    "\n",
    "plt.figure(figsize=(8,5))\n",
    "child_df['100m이내_CCTV개수'].hist(bins=range(0, child_df['100m이내_CCTV개수'].max()+2, 1))\n",
    "plt.title('100m 이내 CCTV 설치 개수 분포')\n",
    "plt.xlabel('CCTV 개수')\n",
    "plt.ylabel('어린이 보호구역 수')\n",
    "plt.grid(True)\n",
    "plt.tight_layout()\n",
    "plt.savefig('../../../results/cctv_distribution_histogram.png')\n",
    "plt.show()\n",
    "\n",
    "print(\"✅ CCTV 설치 개수 분포 그래프 저장 완료: '../../../results/cctv_distribution_histogram.png'\")\n"
   ]
  },
  {
   "cell_type": "code",
   "execution_count": 15,
   "id": "c2c77da4-e2aa-4463-a5e7-0a54cea62f3c",
   "metadata": {},
   "outputs": [],
   "source": [
    "child_df['50m이내_CCTV개수'] = 0\n",
    "\n",
    "for idx, child_row in child_df.iterrows():\n",
    "    if np.isnan(child_row['위도']) or np.isnan(child_row['경도']):\n",
    "        continue\n",
    "\n",
    "    lat1 = child_row['위도']\n",
    "    lon1 = child_row['경도']\n",
    "    distances = haversine(lat1, lon1, cctv_df['위도'], cctv_df['경도'])\n",
    "    cctv_count = (distances <= 50).sum()\n",
    "    child_df.at[idx, '50m이내_CCTV개수'] = cctv_count\n"
   ]
  },
  {
   "cell_type": "code",
   "execution_count": 16,
   "id": "6e19510c-203f-4d16-95f2-4a788fc9bc47",
   "metadata": {},
   "outputs": [
    {
     "name": "stdout",
     "output_type": "stream",
     "text": [
      "✅ 50m 이내 CCTV 커버율: 77.27% (총 51/66개소)\n"
     ]
    }
   ],
   "source": [
    "total_zones = len(child_df)\n",
    "zones_with_cctv_50m = (child_df['50m이내_CCTV개수'] > 0).sum()\n",
    "coverage_rate_50m = (zones_with_cctv_50m / total_zones) * 100\n",
    "\n",
    "print(f\"✅ 50m 이내 CCTV 커버율: {coverage_rate_50m:.2f}% (총 {zones_with_cctv_50m}/{total_zones}개소)\")\n"
   ]
  },
  {
   "cell_type": "code",
   "execution_count": 18,
   "id": "06101445-df9d-41aa-a181-6f283d42226b",
   "metadata": {},
   "outputs": [
    {
     "name": "stdout",
     "output_type": "stream",
     "text": [
      "✅ 지도 저장 완료: ../../../results/low_cctv_childzones_map.html\n"
     ]
    }
   ],
   "source": [
    "import folium\n",
    "\n",
    "map_center = [37.5384, 127.0826]  # 광진구 중심점\n",
    "m = folium.Map(location=map_center, zoom_start=13)\n",
    "\n",
    "low_cctv_zones = child_df[child_df['50m이내_CCTV개수'] <= 1]\n",
    "low_cctv_zones_unique = low_cctv_zones.drop_duplicates(subset=['도로명주소', '위도', '경도'])\n",
    "\n",
    "for idx, row in low_cctv_zones_unique.iterrows():\n",
    "    if pd.isna(row['위도']) or pd.isna(row['경도']):\n",
    "        continue\n",
    "\n",
    "    folium.Marker(\n",
    "        location=[row['위도'], row['경도']],\n",
    "        popup=f\"{row['도로명주소']} (50m 이내 CCTV: {row['50m이내_CCTV개수']}개)\",\n",
    "        icon=folium.Icon(color='red')\n",
    "    ).add_to(m)\n",
    "\n",
    "map_path = '../../../results/low_cctv_childzones_map.html'\n",
    "m.save(map_path)\n",
    "\n",
    "print(f\"✅ 지도 저장 완료: {map_path}\")\n"
   ]
  },
  {
   "cell_type": "code",
   "execution_count": 19,
   "id": "9dc76402-c09a-4dad-8c4e-42f54a296caf",
   "metadata": {},
   "outputs": [
    {
     "name": "stdout",
     "output_type": "stream",
     "text": [
      "✅ 50m 이내 CCTV 0개 고유 보호구역 수: 12개\n",
      "          도로명주소         위도          경도  50m이내_CCTV개수\n",
      "0   천호대로130길 58  37.549814  127.086793             0\n",
      "1    아차산로70길 35  37.540968  127.100704             0\n",
      "4      구의강변로 69  37.537097  127.092289             0\n",
      "7       뚝섬로 561  37.535058  127.072179             0\n",
      "11    뚝섬로64길 71  37.531123  127.089234             0\n",
      "17   긴고랑로13길 59  37.565173  127.082512             0\n",
      "24    군자로12길 46  37.551713  127.072673             0\n",
      "25     아차산로 552  37.543657  127.104250             0\n",
      "30      자양로 296  37.552056  127.092574             0\n",
      "31     광나루로 441  37.547246  127.078304             0\n",
      "62    자양로50길 74  37.552735  127.096318             0\n",
      "65    자양로35길 13  37.547088  127.086433             0\n"
     ]
    }
   ],
   "source": [
    "no_cctv_zones = child_df[child_df['50m이내_CCTV개수'] < 1]\n",
    "no_cctv_zones_unique = no_cctv_zones.drop_duplicates(subset=['도로명주소', '위도', '경도'])\n",
    "\n",
    "print(f\"✅ 50m 이내 CCTV 0개 고유 보호구역 수: {len(no_cctv_zones_unique)}개\")\n",
    "print(no_cctv_zones_unique[['도로명주소', '위도', '경도', '50m이내_CCTV개수']])\n"
   ]
  },
  {
   "cell_type": "code",
   "execution_count": 20,
   "id": "dfcdc062-3f31-450d-a474-34115d9de4d9",
   "metadata": {},
   "outputs": [
    {
     "name": "stdout",
     "output_type": "stream",
     "text": [
      "✅ 100m 이내 평균 CCTV 개수: 3.80대\n",
      "✅ 50m 이내 평균 CCTV 개수: 1.11대\n"
     ]
    }
   ],
   "source": [
    "avg_cctv_100m = child_df['100m이내_CCTV개수'].mean()\n",
    "avg_cctv_50m = child_df['50m이내_CCTV개수'].mean()\n",
    "\n",
    "print(f\"✅ 100m 이내 평균 CCTV 개수: {avg_cctv_100m:.2f}대\")\n",
    "print(f\"✅ 50m 이내 평균 CCTV 개수: {avg_cctv_50m:.2f}대\")\n"
   ]
  },
  {
   "cell_type": "code",
   "execution_count": 21,
   "id": "55fd4890-7e5c-44da-9e34-6d4a5c1797c5",
   "metadata": {},
   "outputs": [
    {
     "name": "stdout",
     "output_type": "stream",
     "text": [
      "✅ 50m 이내 평균 이하 고유 보호구역 수: 44개\n",
      "                     도로명주소         위도          경도  50m이내_CCTV개수\n",
      "0              천호대로130길 58  37.549814  127.086793             0\n",
      "1               아차산로70길 35  37.540968  127.100704             0\n",
      "4                 구의강변로 69  37.537097  127.092289             0\n",
      "5               광나루로30길 49  37.543007  127.080312             1\n",
      "6                 영화사로 111  37.553422  127.099047             1\n",
      "7                  뚝섬로 561  37.535058  127.072179             0\n",
      "8                 뚝섬로56길 7  37.531494  127.083408             1\n",
      "9                   능동로 42  37.534682  127.069995             1\n",
      "10               뚝섬로46길 64  37.530245  127.075588             1\n",
      "11               뚝섬로64길 71  37.531123  127.089234             0\n",
      "12                 워커힐로 32  37.544978  127.098714             1\n",
      "15              아차산로44길 26  37.536838  127.080108             1\n",
      "16                  군자로 74  37.549876  127.072402             1\n",
      "17              긴고랑로13길 59  37.565173  127.082512             0\n",
      "18               동일로72길 43  37.566115  127.080024             1\n",
      "19                자양로4길 63  37.533281  127.089281             1\n",
      "21              아차산로70길 40  37.541627  127.100698             1\n",
      "23               뚝섬로41길 20  37.534577  127.075652             1\n",
      "24               군자로12길 46  37.551713  127.072673             0\n",
      "25                아차산로 552  37.543657  127.104250             0\n",
      "26               뚝섬로66길 14  37.533396  127.089785             1\n",
      "27               동일로 256-1  37.554143  127.071279             1\n",
      "29               뚝섬로59길 18  37.532909  127.084178             1\n",
      "30                 자양로 296  37.552056  127.092574             0\n",
      "31                광나루로 441  37.547246  127.078304             0\n",
      "32                영화사로 105  37.554053  127.097719             1\n",
      "33                능동로4길 13  37.533844  127.068343             1\n",
      "34             아차산로 503-23  37.543162  127.095608             1\n",
      "35               광나루로56길 5  37.538780  127.098357             1\n",
      "36            뚝섬로35길 16-20  37.535172  127.071537             1\n",
      "43               자양로23길 79  37.543849  127.083776             1\n",
      "44               자양로44길 91  37.550211  127.096247             1\n",
      "45              광나루로54길 36  37.539348  127.095116             1\n",
      "47             천호대로114길 47  37.553574  127.081968             1\n",
      "50               아차산로66길 8  37.541063  127.097057             1\n",
      "52               용마산로3길 60  37.556594  127.084994             1\n",
      "53                구의로4길 21  37.540168  127.090841             1\n",
      "55                자양번영로 35  37.532898  127.075234             1\n",
      "57  면목로4길 3\\n(동산골든빌라 101호)  37.555820  127.076065             1\n",
      "60                능동로4길 88  37.530797  127.071174             1\n",
      "62               자양로50길 74  37.552735  127.096318             0\n",
      "63                 강변역로 18  37.537667  127.091562             1\n",
      "64                   광장로 1  37.545549  127.098205             1\n",
      "65               자양로35길 13  37.547088  127.086433             0\n"
     ]
    }
   ],
   "source": [
    "low_50m_zones = child_df[child_df['50m이내_CCTV개수'] < avg_cctv_50m]\n",
    "low_50m_zones_unique = low_50m_zones.drop_duplicates(subset=['도로명주소', '위도', '경도'])\n",
    "\n",
    "print(f\"✅ 50m 이내 평균 이하 고유 보호구역 수: {len(low_50m_zones_unique)}개\")\n",
    "print(low_50m_zones_unique[['도로명주소', '위도', '경도', '50m이내_CCTV개수']])\n"
   ]
  },
  {
   "cell_type": "code",
   "execution_count": 25,
   "id": "db754ec9-c2f0-400a-a632-52d51932cff5",
   "metadata": {},
   "outputs": [
    {
     "name": "stdout",
     "output_type": "stream",
     "text": [
      "✅ [100m 기준]\n",
      "- 평균 CCTV 개수: 3.80대\n",
      "- 최소 CCTV 개수: 0대\n",
      "- 최대 CCTV 개수: 8대\n",
      "- 표준편차: 1.78\n",
      "\n",
      "✅ [50m 기준]\n",
      "- 평균 CCTV 개수: 1.11대\n",
      "- 최소 CCTV 개수: 0대\n",
      "- 최대 CCTV 개수: 4대\n",
      "- 표준편차: 0.90\n"
     ]
    }
   ],
   "source": [
    "# 100m 기준 통계\n",
    "min_cctv_100m = child_df['100m이내_CCTV개수'].min()\n",
    "max_cctv_100m = child_df['100m이내_CCTV개수'].max()\n",
    "std_cctv_100m = child_df['100m이내_CCTV개수'].std()\n",
    "\n",
    "# 50m 기준 통계\n",
    "min_cctv_50m = child_df['50m이내_CCTV개수'].min()\n",
    "max_cctv_50m = child_df['50m이내_CCTV개수'].max()\n",
    "std_cctv_50m = child_df['50m이내_CCTV개수'].std()\n",
    "\n",
    "print(\"✅ [100m 기준]\")\n",
    "print(f\"- 평균 CCTV 개수: {avg_cctv_100m:.2f}대\")\n",
    "print(f\"- 최소 CCTV 개수: {min_cctv_100m}대\")\n",
    "print(f\"- 최대 CCTV 개수: {max_cctv_100m}대\")\n",
    "print(f\"- 표준편차: {std_cctv_100m:.2f}\")\n",
    "\n",
    "print()\n",
    "print(\"✅ [50m 기준]\")\n",
    "print(f\"- 평균 CCTV 개수: {avg_cctv_50m:.2f}대\")\n",
    "print(f\"- 최소 CCTV 개수: {min_cctv_50m}대\")\n",
    "print(f\"- 최대 CCTV 개수: {max_cctv_50m}대\")\n",
    "print(f\"- 표준편차: {std_cctv_50m:.2f}\")\n"
>>>>>>> 21354b761d1ca62e8bfff42a19226cd8f2c13aae
   ]
  },
  {
   "cell_type": "code",
   "execution_count": null,
<<<<<<< HEAD
   "id": "8ce5ba4b-ba14-4c6a-9ca1-9f8aff987943",
=======
   "id": "e1492fa6-3bf2-4e55-aa06-5cd2748ae900",
>>>>>>> 21354b761d1ca62e8bfff42a19226cd8f2c13aae
   "metadata": {},
   "outputs": [],
   "source": []
  }
 ],
 "metadata": {
  "kernelspec": {
   "display_name": "Python 3 (ipykernel)",
   "language": "python",
   "name": "python3"
  },
  "language_info": {
   "codemirror_mode": {
    "name": "ipython",
    "version": 3
   },
   "file_extension": ".py",
   "mimetype": "text/x-python",
   "name": "python",
   "nbconvert_exporter": "python",
   "pygments_lexer": "ipython3",
   "version": "3.10.12"
  }
 },
 "nbformat": 4,
 "nbformat_minor": 5
}
