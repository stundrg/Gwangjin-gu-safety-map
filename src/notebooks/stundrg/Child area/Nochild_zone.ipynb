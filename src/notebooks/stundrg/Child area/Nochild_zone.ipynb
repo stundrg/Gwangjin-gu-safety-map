{
 "cells": [
  {
   "cell_type": "code",
   "execution_count": 15,
   "id": "5773153f-0472-4e23-a957-8181f28e726e",
   "metadata": {},
   "outputs": [
    {
     "ename": "ModuleNotFoundError",
     "evalue": "No module named 'dotenv'",
     "output_type": "error",
     "traceback": [
      "\u001b[0;31m---------------------------------------------------------------------------\u001b[0m",
      "\u001b[0;31mModuleNotFoundError\u001b[0m                       Traceback (most recent call last)",
      "Cell \u001b[0;32mIn[15], line 5\u001b[0m\n\u001b[1;32m      3\u001b[0m \u001b[38;5;28;01mimport\u001b[39;00m\u001b[38;5;250m \u001b[39m\u001b[38;5;21;01mtime\u001b[39;00m\n\u001b[1;32m      4\u001b[0m \u001b[38;5;28;01mimport\u001b[39;00m\u001b[38;5;250m \u001b[39m\u001b[38;5;21;01mos\u001b[39;00m\n\u001b[0;32m----> 5\u001b[0m \u001b[38;5;28;01mfrom\u001b[39;00m\u001b[38;5;250m \u001b[39m\u001b[38;5;21;01mdotenv\u001b[39;00m\u001b[38;5;250m \u001b[39m\u001b[38;5;28;01mimport\u001b[39;00m load_dotenv\n\u001b[1;32m      7\u001b[0m \u001b[38;5;66;03m# 📂 .env 파일에서 API 키 읽어오기\u001b[39;00m\n\u001b[1;32m      8\u001b[0m load_dotenv()\n",
      "\u001b[0;31mModuleNotFoundError\u001b[0m: No module named 'dotenv'"
     ]
    }
   ],
   "source": [
    "import pandas as pd\n",
    "import requests\n",
    "import time\n",
    "import os\n",
    "from dotenv import load_dotenv\n",
    "\n",
    "# 📂 .env 파일에서 API 키 읽어오기\n",
    "load_dotenv()\n",
    "REST_API_KEY = os.getenv('KAKAO_API_KEY')\n",
    "\n",
    "# ✅ 광진구 어린이 보호구역 파일 경로\n",
    "child_zone_path = '../../../data/gwangjin_child_zone_cp949.csv'\n",
    "child_df = pd.read_csv(child_zone_path, encoding='cp949')\n",
    "\n",
    "# 📍 결과 저장할 리스트\n",
    "latitudes = []\n",
    "longitudes = []\n",
    "\n",
    "# 📍 카카오 주소→좌표 변환 함수\n",
    "def get_lat_lon(address, api_key):\n",
    "    url = 'https://dapi.kakao.com/v2/local/search/address.json'\n",
    "    headers = {\"Authorization\": f\"KakaoAK {api_key}\"}\n",
    "    params = {\"query\": address}\n",
    "    response = requests.get(url, headers=headers, params=params)\n",
    "    if response.status_code == 200:\n",
    "        result = response.json()[\"documents\"]\n",
    "        if result:\n",
    "            return float(result[0][\"y\"]), float(result[0][\"x\"])  # 위도, 경도\n",
    "        else:\n",
    "            return None, None\n",
    "    else:\n",
    "        return None, None\n",
    "\n",
    "# 📍 어린이 보호구역 주소 하나씩 위경도 변환\n",
    "for address in child_df['도로명주소']:  # 도로명주소 컬럼명 맞춰야 함\n",
    "    lat, lon = get_lat_lon(address, REST_API_KEY)\n",
    "    latitudes.append(lat)\n",
    "    longitudes.append(lon)\n",
    "    time.sleep(0.1)  # 요청 속도 너무 빠르면 막힐 수 있어서 살짝 쉬기\n",
    "\n",
    "# 📍 결과 추가\n",
    "child_df['위도'] = latitudes\n",
    "child_df['경도'] = longitudes\n",
    "\n",
    "# 📂 위경도 추가된 파일로 저장 (CP949로 다시 저장)\n",
    "child_df.to_csv('../../../data/gwangjin_child_zone_with_coords.csv', index=False, encoding='cp949')\n",
    "\n",
    "print(\"✅ 변환 완료! 'gwangjin_child_zone_with_coords.csv' 저장 완료\")\n"
   ]
  },
  {
   "cell_type": "code",
   "execution_count": 11,
   "id": "0ab9c586-1d1e-47c6-87cc-fa19824db0cb",
   "metadata": {},
   "outputs": [
    {
     "name": "stdout",
     "output_type": "stream",
     "text": [
      "✅ 변환 완료: 'gwangjin_child_zone_cp949.csv' (cp949 인코딩)\n"
     ]
    }
   ],
   "source": [
    "import pandas as pd\n",
    "\n",
    "# 📂 UTF-8로 읽기\n",
    "child_df = pd.read_csv('../../../data/gwangjin_child_zone.csv', encoding='utf-8')\n",
    "\n",
    "# (여기서 필요한 작업을 한다면 추가)\n",
    "\n",
    "# 📂 CP949로 저장하기\n",
    "child_df.to_csv('../../../data/gwangjin_child_zone_cp949.csv', index=False, encoding='cp949')\n",
    "\n",
    "print(\"✅ 변환 완료: 'gwangjin_child_zone_cp949.csv' (cp949 인코딩)\")\n"
   ]
  },
  {
   "cell_type": "code",
   "execution_count": null,
   "id": "8ce5ba4b-ba14-4c6a-9ca1-9f8aff987943",
   "metadata": {},
   "outputs": [],
   "source": []
  }
 ],
 "metadata": {
  "kernelspec": {
   "display_name": "Python 3 (ipykernel)",
   "language": "python",
   "name": "python3"
  },
  "language_info": {
   "codemirror_mode": {
    "name": "ipython",
    "version": 3
   },
   "file_extension": ".py",
   "mimetype": "text/x-python",
   "name": "python",
   "nbconvert_exporter": "python",
   "pygments_lexer": "ipython3",
   "version": "3.10.12"
  }
 },
 "nbformat": 4,
 "nbformat_minor": 5
}
