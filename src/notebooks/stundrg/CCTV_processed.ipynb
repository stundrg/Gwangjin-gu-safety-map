{
 "cells": [
  {
   "cell_type": "code",
   "execution_count": 13,
   "id": "167abfae-f63e-4ffa-b30c-5c5d092cadc6",
   "metadata": {},
   "outputs": [
    {
     "name": "stdout",
     "output_type": "stream",
     "text": [
      "✅ 분석 완료! 결과 저장됨: ./cctv_map.html, ./processed_cctv.csv\n"
     ]
    }
   ],
   "source": [
    "import pandas as pd\n",
    "import folium\n",
    "from sklearn.cluster import DBSCAN\n",
    "import numpy as np\n",
    "\n",
    "# 1. 파일 경로 (현재 디렉토리 기준 - 공백 포함 정확하게 입력)\n",
    "file_path = \"/home/wsl/code/gongmo/src/data/서울시_광진구_안심이_CCTV_연계_현황.csv\"\n",
    "\n",
    "# 2. CSV 파일 읽기\n",
    "df = pd.read_csv(file_path, encoding='cp949')\n",
    "\n",
    "# 3. 안심 주소 → 시설유형, 구역코드, 세부번호 분해\n",
    "df[['시설유형', '구역코드', '세부번호']] = df['안심 주소'].str.extract(r'([가-힣\\-]+)-(\\d+)-?(.+)?')\n",
    "\n",
    "# 4. 수치형 변환\n",
    "df['CCTV 수량'] = pd.to_numeric(df['CCTV 수량'], errors='coerce').fillna(0).astype(int)\n",
    "df['위도'] = pd.to_numeric(df['위도'], errors='coerce')\n",
    "df['경도'] = pd.to_numeric(df['경도'], errors='coerce')\n",
    "\n",
    "# 5. DBSCAN 클러스터링 (100m 기준)\n",
    "coords = df[['위도', '경도']].dropna().values\n",
    "kms_per_radian = 6371.0088\n",
    "epsilon = 0.1 / kms_per_radian  # 약 100m\n",
    "db = DBSCAN(eps=epsilon, min_samples=2, algorithm='ball_tree', metric='haversine')\n",
    "df['cluster'] = db.fit_predict(np.radians(coords))\n",
    "\n",
    "# 6. 지도 시각화 (Folium)\n",
    "m = folium.Map(location=[37.54, 127.08], zoom_start=13)\n",
    "for _, row in df.iterrows():\n",
    "    folium.CircleMarker(\n",
    "        location=[row['위도'], row['경도']],\n",
    "        radius=row['CCTV 수량'] * 2,\n",
    "        popup=f\"{row['시설유형']} (cluster: {row['cluster']})\",\n",
    "        color='blue',\n",
    "        fill=True\n",
    "    ).add_to(m)\n",
    "\n",
    "# 7. 결과 저장 (노트북 실행 위치에 저장됨)\n",
    "m.save(\"cctv_map.html\")\n",
    "df.to_csv(\"processed_cctv.csv\", index=False, encoding=\"cp949\")\n",
    "\n",
    "print(\"✅ 분석 완료! 결과 저장됨: ./cctv_map.html, ./processed_cctv.csv\")\n"
   ]
  },
  {
   "cell_type": "code",
   "execution_count": 8,
   "id": "30541750-4e0c-41d2-a9cd-2d71ea1b3541",
   "metadata": {},
   "outputs": [
    {
     "name": "stdout",
     "output_type": "stream",
     "text": [
      "\"/home/wsl/code/gongmo/src/data/'서울시 광진구 안심이 CCTV 연계 현황.csv'\"\n",
      "False\n"
     ]
    }
   ],
   "source": [
    "import os\n",
    "print(repr(file_path))  # 파일 경로 문자열에 이상한 문자 있는지 확인\n",
    "print(os.path.exists(file_path))  # 존재 여부 재확인"
   ]
  },
  {
   "cell_type": "code",
   "execution_count": null,
   "id": "370809a3-8a1b-4f22-8f82-09fc3ce5d94b",
   "metadata": {},
   "outputs": [],
   "source": []
  }
 ],
 "metadata": {
  "kernelspec": {
   "display_name": "Python 3 (ipykernel)",
   "language": "python",
   "name": "python3"
  },
  "language_info": {
   "codemirror_mode": {
    "name": "ipython",
    "version": 3
   },
   "file_extension": ".py",
   "mimetype": "text/x-python",
   "name": "python",
   "nbconvert_exporter": "python",
   "pygments_lexer": "ipython3",
   "version": "3.10.12"
  }
 },
 "nbformat": 4,
 "nbformat_minor": 5
}
