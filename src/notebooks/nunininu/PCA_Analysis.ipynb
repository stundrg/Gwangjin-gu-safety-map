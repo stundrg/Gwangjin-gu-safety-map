{
 "cells": [
  {
   "cell_type": "code",
   "execution_count": 1,
   "id": "623e1e11-df10-42e8-9b16-902c473132fa",
   "metadata": {},
   "outputs": [
    {
     "name": "stdout",
     "output_type": "stream",
     "text": [
      "여성비율: 0.6392\n",
      "1인가구비율: 0.5698\n",
      "노인비율: -0.5164\n"
     ]
    }
   ],
   "source": [
    "import pandas as pd\n",
    "from sklearn.preprocessing import MinMaxScaler\n",
    "from sklearn.decomposition import PCA\n",
    "\n",
    "# 데이터셋 구성\n",
    "data = pd.DataFrame({\n",
    "    '행정동': ['화양동', '군자동', '중곡제1동', '중곡제2동', '중곡제3동', '중곡제4동',\n",
    "             '능동', '광장동', '자양제1동', '자양제2동', '자양제3동', '자양제4동',\n",
    "             '구의제1동', '구의제2동', '구의제3동'],\n",
    "    '여성비율': [0.352, 0.203, 0.209, 0.180, 0.160, 0.140,\n",
    "              0.229, 0.110, 0.180, 0.150, 0.140, 0.170,\n",
    "              0.220, 0.140, 0.160],\n",
    "    '1인가구비율': [0.831, 0.633, 0.576, 0.500, 0.540, 0.420,\n",
    "                0.614, 0.200, 0.560, 0.420, 0.300, 0.560,\n",
    "                0.600, 0.390, 0.370],\n",
    "    '노인비율': [0.107, 0.186, 0.192, 0.190, 0.220, 0.230,\n",
    "              0.168, 0.130, 0.190, 0.200, 0.190, 0.220,\n",
    "              0.160, 0.200, 0.180]\n",
    "})\n",
    "\n",
    "# 정규화\n",
    "scaler = MinMaxScaler()\n",
    "scaled_data = scaler.fit_transform(data[['여성비율', '1인가구비율', '노인비율']])\n",
    "\n",
    "# PCA 수행\n",
    "pca = PCA(n_components=1)\n",
    "pca.fit(scaled_data)\n",
    "coefficients = pca.components_[0]\n",
    "\n",
    "# 결과 출력\n",
    "for var, coef in zip(['여성비율', '1인가구비율', '노인비율'], coefficients):\n",
    "    print(f\"{var}: {coef:.4f}\")\n"
   ]
  },
  {
   "cell_type": "code",
   "execution_count": null,
   "id": "09a00481-9bfc-4946-82cd-93302faebe6d",
   "metadata": {},
   "outputs": [],
   "source": []
  }
 ],
 "metadata": {
  "kernelspec": {
   "display_name": "Python 3 (ipykernel)",
   "language": "python",
   "name": "python3"
  },
  "language_info": {
   "codemirror_mode": {
    "name": "ipython",
    "version": 3
   },
   "file_extension": ".py",
   "mimetype": "text/x-python",
   "name": "python",
   "nbconvert_exporter": "python",
   "pygments_lexer": "ipython3",
   "version": "3.12.3"
  }
 },
 "nbformat": 4,
 "nbformat_minor": 5
}
