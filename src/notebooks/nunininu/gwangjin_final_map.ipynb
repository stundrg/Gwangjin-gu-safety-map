{
 "cells": [
  {
   "cell_type": "code",
   "execution_count": null,
   "id": "68f004d7-43e6-44b9-916e-62ff00466dc1",
   "metadata": {},
   "outputs": [
    {
     "name": "stdout",
     "output_type": "stream",
     "text": [
      "✅ 저장 완료: gwangjin_female_ratio_map.html\n",
      "✅ 저장 완료: gwangjin_single_ratio_map.html\n",
      "✅ 저장 완료: gwangjin_elderly_ratio_map.html\n"
     ]
    }
   ],
   "source": [
    "import geopandas as gpd\n",
    "import folium\n",
    "from branca.colormap import linear\n",
    "\n",
    "# ✅ 정확한 SHP 경로\n",
    "shp_path = \"/home/sgcho/code/gongmo/src/notebooks/nunininu/BND_ADM_DONG_PG/BND_ADM_DONG_PG.shp\"\n",
    "\n",
    "# 이름 매핑\n",
    "name_mapping = {\n",
    "    \"광장동\": \"광장동\", \"구의1동\": \"구의제1동\", \"구의2동\": \"구의제2동\", \"구의3동\": \"구의제3동\",\n",
    "    \"군자동\": \"군자동\", \"능동\": \"능동\", \"자양1동\": \"자양제1동\", \"자양2동\": \"자양제2동\",\n",
    "    \"자양3동\": \"자양제3동\", \"자양4동\": \"자양제4동\", \"중곡1동\": \"중곡제1동\", \"중곡2동\": \"중곡제2동\",\n",
    "    \"중곡3동\": \"중곡제3동\", \"중곡4동\": \"중곡제4동\", \"화양동\": \"화양동\"\n",
    "}\n",
    "\n",
    "# 데이터 로드 및 변환\n",
    "gdf = gpd.read_file(shp_path, encoding=\"cp949\")\n",
    "gdf = gdf[gdf[\"ADM_NM\"].isin(name_mapping.keys())]\n",
    "gdf = gdf.to_crs(epsg=4326)\n",
    "gdf[\"행정동\"] = gdf[\"ADM_NM\"].map(name_mapping)\n",
    "\n",
    "# 비율 데이터\n",
    "gdf[\"2~30대여성비율\"] = gdf[\"행정동\"].map({\n",
    "    \"화양동\": 0.35, \"군자동\": 0.20, \"중곡제1동\": 0.21,\n",
    "    \"중곡제2동\": 0.18, \"중곡제3동\": 0.16, \"중곡제4동\": 0.14,\n",
    "    \"능동\": 0.23, \"광장동\": 0.11, \"자양제1동\": 0.18,\n",
    "    \"자양제2동\": 0.15, \"자양제3동\": 0.14, \"자양제4동\": 0.17,\n",
    "    \"구의제1동\": 0.22, \"구의제2동\": 0.14, \"구의제3동\": 0.16\n",
    "})\n",
    "\n",
    "gdf[\"1인가구비율\"] = gdf[\"행정동\"].map({\n",
    "    \"화양동\": 0.83, \"군자동\": 0.63, \"중곡제1동\": 0.58,\n",
    "    \"중곡제2동\": 0.50, \"중곡제3동\": 0.54, \"중곡제4동\": 0.42,\n",
    "    \"능동\": 0.61, \"광장동\": 0.20, \"자양제1동\": 0.56,\n",
    "    \"자양제2동\": 0.42, \"자양제3동\": 0.30, \"자양제4동\": 0.56,\n",
    "    \"구의제1동\": 0.60, \"구의제2동\": 0.39, \"구의제3동\": 0.37\n",
    "})\n",
    "\n",
    "gdf[\"노인비율\"] = gdf[\"행정동\"].map({\n",
    "    \"화양동\": 0.11, \"군자동\": 0.19, \"중곡제1동\": 0.19,\n",
    "    \"중곡제2동\": 0.19, \"중곡제3동\": 0.22, \"중곡제4동\": 0.23,\n",
    "    \"능동\": 0.17, \"광장동\": 0.13, \"자양제1동\": 0.19,\n",
    "    \"자양제2동\": 0.20, \"자양제3동\": 0.19, \"자양제4동\": 0.22,\n",
    "    \"구의제1동\": 0.16, \"구의제2동\": 0.20, \"구의제3동\": 0.18\n",
    "})\n",
    "\n",
    "\n",
    "\n",
    "# 공통 시각화 함수\n",
    "def make_map(column, caption, filename):\n",
    "    m = folium.Map(location=[37.552, 127.085], zoom_start=14)\n",
    "    cmap = linear.Reds_09.scale(gdf[column].min(), gdf[column].max())\n",
    "    cmap.caption = caption\n",
    "\n",
    "    folium.GeoJson(\n",
    "        gdf,\n",
    "        style_function=lambda feat: {\n",
    "            \"fillColor\": cmap(feat[\"properties\"][column]),\n",
    "            \"color\": \"black\",\n",
    "            \"weight\": 1.5,\n",
    "            \"fillOpacity\": 0.5,\n",
    "        },\n",
    "        tooltip=folium.GeoJsonTooltip(fields=[\"행정동\", column], aliases=[\"행정동:\", caption])\n",
    "    ).add_to(m)\n",
    "    cmap.add_to(m)\n",
    "    m.save(filename)\n",
    "    print(f\"✅ 저장 완료: {filename}\")\n",
    "\n",
    "# 1. 여성 비율\n",
    "make_map(\"2~30대여성비율\", \"2~30대 여성 인구 비율\", \"gwangjin_2030female_ratio_map.html\")\n",
    "\n",
    "# 2. 1인가구 비율\n",
    "make_map(\"1인가구비율\", \"1인가구 비율\", \"gwangjin_single_ratio_map.html\")\n",
    "\n",
    "# 3. 노인 비율\n",
    "make_map(\"노인비율\", \"노인 인구 비율\", \"gwangjin_elderly_ratio_map.html\")\n"
   ]
  },
  {
   "cell_type": "code",
   "execution_count": null,
   "id": "06d5e11c-2569-43df-be58-920f131fb657",
   "metadata": {},
   "outputs": [],
   "source": []
  }
 ],
 "metadata": {
  "kernelspec": {
   "display_name": "Python 3 (ipykernel)",
   "language": "python",
   "name": "python3"
  },
  "language_info": {
   "codemirror_mode": {
    "name": "ipython",
    "version": 3
   },
   "file_extension": ".py",
   "mimetype": "text/x-python",
   "name": "python",
   "nbconvert_exporter": "python",
   "pygments_lexer": "ipython3",
   "version": "3.10.12"
  }
 },
 "nbformat": 4,
 "nbformat_minor": 5
}
