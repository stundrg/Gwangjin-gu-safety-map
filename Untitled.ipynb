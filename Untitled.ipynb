{
 "cells": [
  {
   "cell_type": "code",
   "execution_count": 1,
   "id": "7b448b89-b508-4439-8476-da7d36fe5b5f",
   "metadata": {},
   "outputs": [
    {
     "ename": "NameError",
     "evalue": "name 'features' is not defined",
     "output_type": "error",
     "traceback": [
      "\u001b[0;31m---------------------------------------------------------------------------\u001b[0m",
      "\u001b[0;31mNameError\u001b[0m                                 Traceback (most recent call last)",
      "Cell \u001b[0;32mIn[1], line 1\u001b[0m\n\u001b[0;32m----> 1\u001b[0m \u001b[38;5;28;01mfor\u001b[39;00m f \u001b[38;5;129;01min\u001b[39;00m \u001b[43mfeatures\u001b[49m:\n\u001b[1;32m      2\u001b[0m     name \u001b[38;5;241m=\u001b[39m f[\u001b[38;5;124m\"\u001b[39m\u001b[38;5;124mproperties\u001b[39m\u001b[38;5;124m\"\u001b[39m][\u001b[38;5;124m\"\u001b[39m\u001b[38;5;124mname\u001b[39m\u001b[38;5;124m\"\u001b[39m]\n\u001b[1;32m      3\u001b[0m     coords \u001b[38;5;241m=\u001b[39m f[\u001b[38;5;124m\"\u001b[39m\u001b[38;5;124mgeometry\u001b[39m\u001b[38;5;124m\"\u001b[39m][\u001b[38;5;124m\"\u001b[39m\u001b[38;5;124mcoordinates\u001b[39m\u001b[38;5;124m\"\u001b[39m]\n",
      "\u001b[0;31mNameError\u001b[0m: name 'features' is not defined"
     ]
    }
   ],
   "source": [
    "for f in features:\n",
    "    name = f[\"properties\"][\"name\"]\n",
    "    coords = f[\"geometry\"][\"coordinates\"]\n",
    "    print(f\"{name}: 첫 좌표 = {coords[0][0]}\")\n"
   ]
  },
  {
   "cell_type": "code",
   "execution_count": 2,
   "id": "444dafd7-686c-4405-a4ac-84bcabdea0a5",
   "metadata": {},
   "outputs": [
    {
     "ename": "ModuleNotFoundError",
     "evalue": "No module named 'fiona'",
     "output_type": "error",
     "traceback": [
      "\u001b[0;31m---------------------------------------------------------------------------\u001b[0m",
      "\u001b[0;31mModuleNotFoundError\u001b[0m                       Traceback (most recent call last)",
      "Cell \u001b[0;32mIn[2], line 1\u001b[0m\n\u001b[0;32m----> 1\u001b[0m \u001b[38;5;28;01mimport\u001b[39;00m\u001b[38;5;250m \u001b[39m\u001b[38;5;21;01mfiona\u001b[39;00m\n\u001b[1;32m      2\u001b[0m \u001b[38;5;28;01mfrom\u001b[39;00m\u001b[38;5;250m \u001b[39m\u001b[38;5;21;01mshapely\u001b[39;00m\u001b[38;5;21;01m.\u001b[39;00m\u001b[38;5;21;01mgeometry\u001b[39;00m\u001b[38;5;250m \u001b[39m\u001b[38;5;28;01mimport\u001b[39;00m shape, mapping\n\u001b[1;32m      3\u001b[0m \u001b[38;5;28;01mfrom\u001b[39;00m\u001b[38;5;250m \u001b[39m\u001b[38;5;21;01mshapely\u001b[39;00m\u001b[38;5;21;01m.\u001b[39;00m\u001b[38;5;21;01mops\u001b[39;00m\u001b[38;5;250m \u001b[39m\u001b[38;5;28;01mimport\u001b[39;00m transform\n",
      "\u001b[0;31mModuleNotFoundError\u001b[0m: No module named 'fiona'"
     ]
    }
   ],
   "source": [
    "import fiona\n",
    "from shapely.geometry import shape, mapping\n",
    "from shapely.ops import transform\n",
    "import pyproj\n",
    "\n",
    "# 좌표계 변환 준비\n",
    "project = pyproj.Transformer.from_crs(\"EPSG:5179\", \"EPSG:4326\", always_xy=True).transform\n",
    "\n",
    "# SHP 파일 경로\n",
    "shp_path = \"/home/sgcho/code/gongmo/BND_ADM_DONG_PG.shp\"\n",
    "\n",
    "# SHP 이름 ➡️ risk_dict 이름 매칭\n",
    "name_mapping = {\n",
    "    \"광장동\": \"광장동\",\n",
    "    \"구의1동\": \"구의제1동\",\n",
    "    \"구의2동\": \"구의제2동\",\n",
    "    \"구의3동\": \"구의제3동\",\n",
    "    \"군자동\": \"군자동\",\n",
    "    \"능동\": \"능동\",\n",
    "    \"자양1동\": \"자양제1동\",\n",
    "    \"자양2동\": \"자양제2동\",\n",
    "    \"자양3동\": \"자양제3동\",\n",
    "    \"자양4동\": \"자양제4동\",\n",
    "    \"중곡1동\": \"중곡제1동\",\n",
    "    \"중곡2동\": \"중곡제2동\",\n",
    "    \"중곡3동\": \"중곡제3동\",\n",
    "    \"중곡4동\": \"중곡제4동\",\n",
    "    \"화양동\": \"화양동\",\n",
    "}\n",
    "\n",
    "features = []\n",
    "with fiona.open(shp_path, encoding=\"cp949\") as src:\n",
    "    for feat in src:\n",
    "        adm_nm = feat[\"properties\"][\"ADM_NM\"].strip()\n",
    "        if adm_nm in name_mapping:\n",
    "            mapped_name = name_mapping[adm_nm]\n",
    "            geom = shape(feat[\"geometry\"])\n",
    "            geom_wgs84 = transform(project, geom)\n",
    "            features.append({\n",
    "                \"type\": \"Feature\",\n",
    "                \"geometry\": mapping(geom_wgs84),\n",
    "                \"properties\": {\n",
    "                    \"name\": mapped_name\n",
    "                }\n",
    "            })\n"
   ]
  },
  {
   "cell_type": "code",
   "execution_count": null,
   "id": "ff5fc9a1-119b-47cf-a7f8-a13015b0ed6c",
   "metadata": {},
   "outputs": [],
   "source": []
  }
 ],
 "metadata": {
  "kernelspec": {
   "display_name": "Python 3 (ipykernel)",
   "language": "python",
   "name": "python3"
  },
  "language_info": {
   "codemirror_mode": {
    "name": "ipython",
    "version": 3
   },
   "file_extension": ".py",
   "mimetype": "text/x-python",
   "name": "python",
   "nbconvert_exporter": "python",
   "pygments_lexer": "ipython3",
   "version": "3.10.12"
  }
 },
 "nbformat": 4,
 "nbformat_minor": 5
}
